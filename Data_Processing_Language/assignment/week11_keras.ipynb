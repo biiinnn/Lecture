{
 "cells": [
  {
   "cell_type": "markdown",
   "metadata": {},
   "source": [
    "# MLP Model 학습 (iris 데이터 분류): Keras 사용"
   ]
  },
  {
   "cell_type": "markdown",
   "metadata": {},
   "source": [
    "## 데이터 불러오기"
   ]
  },
  {
   "cell_type": "code",
   "execution_count": 1,
   "metadata": {},
   "outputs": [],
   "source": [
    "import pandas as pd"
   ]
  },
  {
   "cell_type": "code",
   "execution_count": 2,
   "metadata": {},
   "outputs": [
    {
     "data": {
      "text/html": [
       "<div>\n",
       "<style scoped>\n",
       "    .dataframe tbody tr th:only-of-type {\n",
       "        vertical-align: middle;\n",
       "    }\n",
       "\n",
       "    .dataframe tbody tr th {\n",
       "        vertical-align: top;\n",
       "    }\n",
       "\n",
       "    .dataframe thead th {\n",
       "        text-align: right;\n",
       "    }\n",
       "</style>\n",
       "<table border=\"1\" class=\"dataframe\">\n",
       "  <thead>\n",
       "    <tr style=\"text-align: right;\">\n",
       "      <th></th>\n",
       "      <th>SepalLengthCm</th>\n",
       "      <th>SepalWidthCm</th>\n",
       "      <th>PetalLengthCm</th>\n",
       "      <th>PetalWidthCm</th>\n",
       "      <th>Species</th>\n",
       "    </tr>\n",
       "    <tr>\n",
       "      <th>Id</th>\n",
       "      <th></th>\n",
       "      <th></th>\n",
       "      <th></th>\n",
       "      <th></th>\n",
       "      <th></th>\n",
       "    </tr>\n",
       "  </thead>\n",
       "  <tbody>\n",
       "    <tr>\n",
       "      <th>1</th>\n",
       "      <td>5.1</td>\n",
       "      <td>3.5</td>\n",
       "      <td>1.4</td>\n",
       "      <td>0.2</td>\n",
       "      <td>Iris-setosa</td>\n",
       "    </tr>\n",
       "    <tr>\n",
       "      <th>2</th>\n",
       "      <td>4.9</td>\n",
       "      <td>3.0</td>\n",
       "      <td>1.4</td>\n",
       "      <td>0.2</td>\n",
       "      <td>Iris-setosa</td>\n",
       "    </tr>\n",
       "    <tr>\n",
       "      <th>3</th>\n",
       "      <td>4.7</td>\n",
       "      <td>3.2</td>\n",
       "      <td>1.3</td>\n",
       "      <td>0.2</td>\n",
       "      <td>Iris-setosa</td>\n",
       "    </tr>\n",
       "    <tr>\n",
       "      <th>4</th>\n",
       "      <td>4.6</td>\n",
       "      <td>3.1</td>\n",
       "      <td>1.5</td>\n",
       "      <td>0.2</td>\n",
       "      <td>Iris-setosa</td>\n",
       "    </tr>\n",
       "    <tr>\n",
       "      <th>5</th>\n",
       "      <td>5.0</td>\n",
       "      <td>3.6</td>\n",
       "      <td>1.4</td>\n",
       "      <td>0.2</td>\n",
       "      <td>Iris-setosa</td>\n",
       "    </tr>\n",
       "  </tbody>\n",
       "</table>\n",
       "</div>"
      ],
      "text/plain": [
       "    SepalLengthCm  SepalWidthCm  PetalLengthCm  PetalWidthCm      Species\n",
       "Id                                                                       \n",
       "1             5.1           3.5            1.4           0.2  Iris-setosa\n",
       "2             4.9           3.0            1.4           0.2  Iris-setosa\n",
       "3             4.7           3.2            1.3           0.2  Iris-setosa\n",
       "4             4.6           3.1            1.5           0.2  Iris-setosa\n",
       "5             5.0           3.6            1.4           0.2  Iris-setosa"
      ]
     },
     "execution_count": 2,
     "metadata": {},
     "output_type": "execute_result"
    }
   ],
   "source": [
    "df = pd.read_csv('iris.csv', index_col=0)\n",
    "df.head()"
   ]
  },
  {
   "cell_type": "markdown",
   "metadata": {},
   "source": [
    "### 변수 설명\n",
    "\n",
    "SepalLengthCm: 꽃받침 길이  \n",
    "SepalWidthCm: 꽃받침 너비  \n",
    "PetalLengthCm: 꽃잎 길이  \n",
    "PetalWidthCm: 꽃잎 너비  \n",
    "Species: 꽃의 종류 (setosa / versicolor / virginica)  "
   ]
  },
  {
   "cell_type": "markdown",
   "metadata": {},
   "source": [
    "## 데이터 전처리"
   ]
  },
  {
   "cell_type": "markdown",
   "metadata": {},
   "source": [
    "### 데이터를 numpy 배열로 만들기"
   ]
  },
  {
   "cell_type": "code",
   "execution_count": 3,
   "metadata": {},
   "outputs": [],
   "source": [
    "import numpy as np"
   ]
  },
  {
   "cell_type": "code",
   "execution_count": 4,
   "metadata": {},
   "outputs": [],
   "source": [
    "# 타겟값(Species)을 제외한 독립변수 넘파이 배열로 변환\n",
    "X = df.drop('Species', axis=1).to_numpy()"
   ]
  },
  {
   "cell_type": "markdown",
   "metadata": {},
   "source": [
    "### MinMaxScaler로 데이터 스케일링"
   ]
  },
  {
   "cell_type": "code",
   "execution_count": 5,
   "metadata": {},
   "outputs": [],
   "source": [
    "from sklearn.preprocessing import MinMaxScaler "
   ]
  },
  {
   "cell_type": "code",
   "execution_count": 6,
   "metadata": {},
   "outputs": [],
   "source": [
    "scaler = MinMaxScaler() \n",
    "scaler.fit(X) \n",
    "X = scaler.transform(X)"
   ]
  },
  {
   "cell_type": "markdown",
   "metadata": {},
   "source": [
    "### LabelEncoder로 target 전처리"
   ]
  },
  {
   "cell_type": "code",
   "execution_count": 7,
   "metadata": {},
   "outputs": [],
   "source": [
    "from sklearn.preprocessing import LabelEncoder\n",
    "from tensorflow.keras.utils import to_categorical"
   ]
  },
  {
   "cell_type": "code",
   "execution_count": 8,
   "metadata": {},
   "outputs": [],
   "source": [
    "Y = df['Species']"
   ]
  },
  {
   "cell_type": "code",
   "execution_count": 9,
   "metadata": {},
   "outputs": [],
   "source": [
    "encoder = LabelEncoder()\n",
    "encoder.fit(Y)\n",
    "Y = encoder.transform(Y)\n",
    "# 타겟 값 one-hot encoding\n",
    "Y = to_categorical(Y)"
   ]
  },
  {
   "cell_type": "markdown",
   "metadata": {},
   "source": [
    "### train test 나누기"
   ]
  },
  {
   "cell_type": "code",
   "execution_count": 10,
   "metadata": {},
   "outputs": [],
   "source": [
    "from sklearn.model_selection import train_test_split "
   ]
  },
  {
   "cell_type": "code",
   "execution_count": 11,
   "metadata": {},
   "outputs": [],
   "source": [
    "X_train, X_test, Y_train, Y_test = train_test_split(X, Y, test_size=0.5)"
   ]
  },
  {
   "cell_type": "markdown",
   "metadata": {},
   "source": [
    "## 모델 구축"
   ]
  },
  {
   "cell_type": "code",
   "execution_count": 12,
   "metadata": {},
   "outputs": [],
   "source": [
    "from keras import models, layers\n",
    "from keras.layers import Dense, Dropout\n",
    "from keras.optimizers import Adam"
   ]
  },
  {
   "cell_type": "code",
   "execution_count": 13,
   "metadata": {},
   "outputs": [],
   "source": [
    "def build_model():\n",
    "  model = models.Sequential()\n",
    "  model.add(layers.Dense(64, activation='relu', input_shape=(X_train.shape[1],)))\n",
    "  model.add(layers.Dense(16, activation='relu'))\n",
    "  model.add(Dropout(0.2))\n",
    "  model.add(layers.Dense(3, activation='softmax'))\n",
    "  model.compile(optimizer=Adam(lr=0.001), loss='categorical_crossentropy', metrics=['accuracy'])\n",
    "  return model"
   ]
  },
  {
   "cell_type": "markdown",
   "metadata": {},
   "source": [
    "## 모델 학습"
   ]
  },
  {
   "cell_type": "code",
   "execution_count": 14,
   "metadata": {
    "scrolled": true
   },
   "outputs": [
    {
     "name": "stdout",
     "output_type": "stream",
     "text": [
      "Epoch 1/100\n",
      "10/10 [==============================] - 0s 497us/step - loss: 1.0644 - accuracy: 0.4667\n",
      "Epoch 2/100\n",
      "10/10 [==============================] - 0s 394us/step - loss: 1.0321 - accuracy: 0.5733\n",
      "Epoch 3/100\n",
      "10/10 [==============================] - 0s 499us/step - loss: 0.9567 - accuracy: 0.7467\n",
      "Epoch 4/100\n",
      "10/10 [==============================] - 0s 387us/step - loss: 0.9235 - accuracy: 0.7467\n",
      "Epoch 5/100\n",
      "10/10 [==============================] - 0s 396us/step - loss: 0.8931 - accuracy: 0.7067\n",
      "Epoch 6/100\n",
      "10/10 [==============================] - 0s 399us/step - loss: 0.8556 - accuracy: 0.7333\n",
      "Epoch 7/100\n",
      "10/10 [==============================] - 0s 484us/step - loss: 0.7887 - accuracy: 0.7467\n",
      "Epoch 8/100\n",
      "10/10 [==============================] - 0s 496us/step - loss: 0.7695 - accuracy: 0.6933\n",
      "Epoch 9/100\n",
      "10/10 [==============================] - 0s 425us/step - loss: 0.7149 - accuracy: 0.7600\n",
      "Epoch 10/100\n",
      "10/10 [==============================] - 0s 490us/step - loss: 0.6689 - accuracy: 0.7467\n",
      "Epoch 11/100\n",
      "10/10 [==============================] - 0s 499us/step - loss: 0.6159 - accuracy: 0.7333\n",
      "Epoch 12/100\n",
      "10/10 [==============================] - 0s 414us/step - loss: 0.6320 - accuracy: 0.7600\n",
      "Epoch 13/100\n",
      "10/10 [==============================] - 0s 383us/step - loss: 0.6088 - accuracy: 0.7867\n",
      "Epoch 14/100\n",
      "10/10 [==============================] - 0s 396us/step - loss: 0.5585 - accuracy: 0.7600\n",
      "Epoch 15/100\n",
      "10/10 [==============================] - 0s 435us/step - loss: 0.5518 - accuracy: 0.7333\n",
      "Epoch 16/100\n",
      "10/10 [==============================] - 0s 396us/step - loss: 0.4987 - accuracy: 0.7867\n",
      "Epoch 17/100\n",
      "10/10 [==============================] - 0s 396us/step - loss: 0.4767 - accuracy: 0.7867\n",
      "Epoch 18/100\n",
      "10/10 [==============================] - 0s 396us/step - loss: 0.4222 - accuracy: 0.8000\n",
      "Epoch 19/100\n",
      "10/10 [==============================] - 0s 499us/step - loss: 0.4732 - accuracy: 0.8400\n",
      "Epoch 20/100\n",
      "10/10 [==============================] - 0s 419us/step - loss: 0.4494 - accuracy: 0.7867\n",
      "Epoch 21/100\n",
      "10/10 [==============================] - 0s 496us/step - loss: 0.4030 - accuracy: 0.7867\n",
      "Epoch 22/100\n",
      "10/10 [==============================] - 0s 401us/step - loss: 0.4224 - accuracy: 0.8400\n",
      "Epoch 23/100\n",
      "10/10 [==============================] - 0s 399us/step - loss: 0.4319 - accuracy: 0.7733\n",
      "Epoch 24/100\n",
      "10/10 [==============================] - 0s 399us/step - loss: 0.4328 - accuracy: 0.7333\n",
      "Epoch 25/100\n",
      "10/10 [==============================] - 0s 401us/step - loss: 0.3941 - accuracy: 0.7867\n",
      "Epoch 26/100\n",
      "10/10 [==============================] - 0s 495us/step - loss: 0.3668 - accuracy: 0.8533\n",
      "Epoch 27/100\n",
      "10/10 [==============================] - 0s 420us/step - loss: 0.3762 - accuracy: 0.8533\n",
      "Epoch 28/100\n",
      "10/10 [==============================] - 0s 415us/step - loss: 0.3955 - accuracy: 0.8400\n",
      "Epoch 29/100\n",
      "10/10 [==============================] - 0s 478us/step - loss: 0.3688 - accuracy: 0.8400\n",
      "Epoch 30/100\n",
      "10/10 [==============================] - 0s 441us/step - loss: 0.3377 - accuracy: 0.8667\n",
      "Epoch 31/100\n",
      "10/10 [==============================] - 0s 399us/step - loss: 0.3470 - accuracy: 0.8800\n",
      "Epoch 32/100\n",
      "10/10 [==============================] - 0s 499us/step - loss: 0.3279 - accuracy: 0.9200\n",
      "Epoch 33/100\n",
      "10/10 [==============================] - 0s 541us/step - loss: 0.3452 - accuracy: 0.8800\n",
      "Epoch 34/100\n",
      "10/10 [==============================] - 0s 460us/step - loss: 0.3030 - accuracy: 0.8667\n",
      "Epoch 35/100\n",
      "10/10 [==============================] - 0s 444us/step - loss: 0.3542 - accuracy: 0.8400\n",
      "Epoch 36/100\n",
      "10/10 [==============================] - 0s 399us/step - loss: 0.3041 - accuracy: 0.8667\n",
      "Epoch 37/100\n",
      "10/10 [==============================] - 0s 401us/step - loss: 0.3058 - accuracy: 0.8800\n",
      "Epoch 38/100\n",
      "10/10 [==============================] - 0s 404us/step - loss: 0.2970 - accuracy: 0.9200\n",
      "Epoch 39/100\n",
      "10/10 [==============================] - 0s 396us/step - loss: 0.2893 - accuracy: 0.9067\n",
      "Epoch 40/100\n",
      "10/10 [==============================] - 0s 399us/step - loss: 0.2790 - accuracy: 0.9067\n",
      "Epoch 41/100\n",
      "10/10 [==============================] - 0s 396us/step - loss: 0.2620 - accuracy: 0.9200\n",
      "Epoch 42/100\n",
      "10/10 [==============================] - 0s 480us/step - loss: 0.2547 - accuracy: 0.9200\n",
      "Epoch 43/100\n",
      "10/10 [==============================] - 0s 424us/step - loss: 0.2920 - accuracy: 0.9067\n",
      "Epoch 44/100\n",
      "10/10 [==============================] - 0s 411us/step - loss: 0.2327 - accuracy: 0.9333\n",
      "Epoch 45/100\n",
      "10/10 [==============================] - 0s 408us/step - loss: 0.2886 - accuracy: 0.9067\n",
      "Epoch 46/100\n",
      "10/10 [==============================] - 0s 399us/step - loss: 0.2461 - accuracy: 0.8933\n",
      "Epoch 47/100\n",
      "10/10 [==============================] - 0s 496us/step - loss: 0.2707 - accuracy: 0.8667\n",
      "Epoch 48/100\n",
      "10/10 [==============================] - 0s 399us/step - loss: 0.2513 - accuracy: 0.9200\n",
      "Epoch 49/100\n",
      "10/10 [==============================] - 0s 397us/step - loss: 0.2123 - accuracy: 0.9600\n",
      "Epoch 50/100\n",
      "10/10 [==============================] - 0s 396us/step - loss: 0.2178 - accuracy: 0.9467\n",
      "Epoch 51/100\n",
      "10/10 [==============================] - 0s 396us/step - loss: 0.2339 - accuracy: 0.9467\n",
      "Epoch 52/100\n",
      "10/10 [==============================] - 0s 373us/step - loss: 0.1984 - accuracy: 0.9333\n",
      "Epoch 53/100\n",
      "10/10 [==============================] - 0s 396us/step - loss: 0.2524 - accuracy: 0.8933\n",
      "Epoch 54/100\n",
      "10/10 [==============================] - 0s 396us/step - loss: 0.2521 - accuracy: 0.9200\n",
      "Epoch 55/100\n",
      "10/10 [==============================] - 0s 399us/step - loss: 0.1919 - accuracy: 0.9467\n",
      "Epoch 56/100\n",
      "10/10 [==============================] - 0s 462us/step - loss: 0.2397 - accuracy: 0.9200\n",
      "Epoch 57/100\n",
      "10/10 [==============================] - 0s 401us/step - loss: 0.1852 - accuracy: 0.9467\n",
      "Epoch 58/100\n",
      "10/10 [==============================] - 0s 396us/step - loss: 0.1856 - accuracy: 0.9333\n",
      "Epoch 59/100\n",
      "10/10 [==============================] - 0s 499us/step - loss: 0.2030 - accuracy: 0.9200\n",
      "Epoch 60/100\n",
      "10/10 [==============================] - 0s 386us/step - loss: 0.2333 - accuracy: 0.9333\n",
      "Epoch 61/100\n",
      "10/10 [==============================] - 0s 499us/step - loss: 0.2237 - accuracy: 0.9200\n",
      "Epoch 62/100\n",
      "10/10 [==============================] - 0s 397us/step - loss: 0.1952 - accuracy: 0.9467\n",
      "Epoch 63/100\n",
      "10/10 [==============================] - 0s 399us/step - loss: 0.1826 - accuracy: 0.9200\n",
      "Epoch 64/100\n",
      "10/10 [==============================] - 0s 496us/step - loss: 0.2155 - accuracy: 0.9467\n",
      "Epoch 65/100\n",
      "10/10 [==============================] - 0s 393us/step - loss: 0.1970 - accuracy: 0.9333\n",
      "Epoch 66/100\n",
      "10/10 [==============================] - 0s 396us/step - loss: 0.1605 - accuracy: 0.9600\n",
      "Epoch 67/100\n",
      "10/10 [==============================] - 0s 396us/step - loss: 0.1823 - accuracy: 0.9600\n",
      "Epoch 68/100\n",
      "10/10 [==============================] - 0s 399us/step - loss: 0.2170 - accuracy: 0.9333\n",
      "Epoch 69/100\n",
      "10/10 [==============================] - 0s 297us/step - loss: 0.2136 - accuracy: 0.9200\n",
      "Epoch 70/100\n",
      "10/10 [==============================] - 0s 500us/step - loss: 0.2093 - accuracy: 0.9200\n",
      "Epoch 71/100\n",
      "10/10 [==============================] - 0s 396us/step - loss: 0.1723 - accuracy: 0.9200\n",
      "Epoch 72/100\n",
      "10/10 [==============================] - 0s 396us/step - loss: 0.1936 - accuracy: 0.9600\n",
      "Epoch 73/100\n",
      "10/10 [==============================] - 0s 396us/step - loss: 0.1688 - accuracy: 0.9733\n",
      "Epoch 74/100\n",
      "10/10 [==============================] - 0s 367us/step - loss: 0.1801 - accuracy: 0.9333\n",
      "Epoch 75/100\n",
      "10/10 [==============================] - 0s 399us/step - loss: 0.1782 - accuracy: 0.9467\n",
      "Epoch 76/100\n",
      "10/10 [==============================] - 0s 399us/step - loss: 0.1494 - accuracy: 0.9467\n",
      "Epoch 77/100\n",
      "10/10 [==============================] - 0s 299us/step - loss: 0.1801 - accuracy: 0.9333\n",
      "Epoch 78/100\n",
      "10/10 [==============================] - 0s 399us/step - loss: 0.1431 - accuracy: 0.9600\n",
      "Epoch 79/100\n",
      "10/10 [==============================] - 0s 399us/step - loss: 0.1471 - accuracy: 0.9600\n",
      "Epoch 80/100\n",
      "10/10 [==============================] - 0s 399us/step - loss: 0.1552 - accuracy: 0.9867\n",
      "Epoch 81/100\n"
     ]
    },
    {
     "name": "stdout",
     "output_type": "stream",
     "text": [
      "10/10 [==============================] - 0s 399us/step - loss: 0.1685 - accuracy: 0.9333\n",
      "Epoch 82/100\n",
      "10/10 [==============================] - 0s 399us/step - loss: 0.1764 - accuracy: 0.9333\n",
      "Epoch 83/100\n",
      "10/10 [==============================] - 0s 399us/step - loss: 0.2174 - accuracy: 0.9200\n",
      "Epoch 84/100\n",
      "10/10 [==============================] - 0s 399us/step - loss: 0.1390 - accuracy: 0.9333\n",
      "Epoch 85/100\n",
      "10/10 [==============================] - 0s 420us/step - loss: 0.1305 - accuracy: 0.9733\n",
      "Epoch 86/100\n",
      "10/10 [==============================] - 0s 402us/step - loss: 0.1559 - accuracy: 0.9733\n",
      "Epoch 87/100\n",
      "10/10 [==============================] - 0s 499us/step - loss: 0.1653 - accuracy: 0.9467\n",
      "Epoch 88/100\n",
      "10/10 [==============================] - 0s 394us/step - loss: 0.1343 - accuracy: 0.9600\n",
      "Epoch 89/100\n",
      "10/10 [==============================] - 0s 396us/step - loss: 0.1424 - accuracy: 0.9600\n",
      "Epoch 90/100\n",
      "10/10 [==============================] - 0s 520us/step - loss: 0.1675 - accuracy: 0.9467\n",
      "Epoch 91/100\n",
      "10/10 [==============================] - 0s 399us/step - loss: 0.1796 - accuracy: 0.9467\n",
      "Epoch 92/100\n",
      "10/10 [==============================] - 0s 396us/step - loss: 0.1373 - accuracy: 0.9600\n",
      "Epoch 93/100\n",
      "10/10 [==============================] - 0s 401us/step - loss: 0.1211 - accuracy: 0.9867\n",
      "Epoch 94/100\n",
      "10/10 [==============================] - 0s 496us/step - loss: 0.1347 - accuracy: 0.9467\n",
      "Epoch 95/100\n",
      "10/10 [==============================] - 0s 398us/step - loss: 0.1309 - accuracy: 0.9733\n",
      "Epoch 96/100\n",
      "10/10 [==============================] - 0s 371us/step - loss: 0.1223 - accuracy: 0.9733\n",
      "Epoch 97/100\n",
      "10/10 [==============================] - 0s 396us/step - loss: 0.1161 - accuracy: 0.9733\n",
      "Epoch 98/100\n",
      "10/10 [==============================] - 0s 396us/step - loss: 0.1566 - accuracy: 0.9467\n",
      "Epoch 99/100\n",
      "10/10 [==============================] - 0s 369us/step - loss: 0.1013 - accuracy: 0.9867\n",
      "Epoch 100/100\n",
      "10/10 [==============================] - 0s 396us/step - loss: 0.1365 - accuracy: 0.9600\n"
     ]
    }
   ],
   "source": [
    "model = build_model()\n",
    "history = model.fit(X_train, Y_train, epochs=100, batch_size=8, verbose=1)"
   ]
  },
  {
   "cell_type": "code",
   "execution_count": 15,
   "metadata": {},
   "outputs": [
    {
     "name": "stdout",
     "output_type": "stream",
     "text": [
      "Model: \"sequential\"\n",
      "_________________________________________________________________\n",
      "Layer (type)                 Output Shape              Param #   \n",
      "=================================================================\n",
      "dense (Dense)                (None, 64)                320       \n",
      "_________________________________________________________________\n",
      "dense_1 (Dense)              (None, 16)                1040      \n",
      "_________________________________________________________________\n",
      "dropout (Dropout)            (None, 16)                0         \n",
      "_________________________________________________________________\n",
      "dense_2 (Dense)              (None, 3)                 51        \n",
      "=================================================================\n",
      "Total params: 1,411\n",
      "Trainable params: 1,411\n",
      "Non-trainable params: 0\n",
      "_________________________________________________________________\n"
     ]
    }
   ],
   "source": [
    "model.summary()"
   ]
  },
  {
   "cell_type": "markdown",
   "metadata": {},
   "source": [
    "### 성능 시각화"
   ]
  },
  {
   "cell_type": "code",
   "execution_count": 16,
   "metadata": {},
   "outputs": [],
   "source": [
    "import matplotlib.pyplot as plt"
   ]
  },
  {
   "cell_type": "code",
   "execution_count": 17,
   "metadata": {},
   "outputs": [
    {
     "data": {
      "text/plain": [
       "<matplotlib.legend.Legend at 0x2739aa37760>"
      ]
     },
     "execution_count": 17,
     "metadata": {},
     "output_type": "execute_result"
    },
    {
     "data": {
      "image/png": "[encoded data removed]",
      "text/plain": [
       "<Figure size 432x288 with 1 Axes>"
      ]
     },
     "metadata": {
      "needs_background": "light"
     },
     "output_type": "display_data"
    }
   ],
   "source": [
    "# loss 시각화\n",
    "loss = history.history['loss']\n",
    "\n",
    "epochs = range(1, len(loss)+1)\n",
    "\n",
    "plt.plot(epochs, loss, label='Training loss')\n",
    "plt.title(\"Training loss\")\n",
    "plt.xlabel('Epochs')\n",
    "plt.ylabel('Loss')\n",
    "plt.legend()"
   ]
  },
  {
   "cell_type": "code",
   "execution_count": 18,
   "metadata": {},
   "outputs": [
    {
     "data": {
      "text/plain": [
       "<matplotlib.legend.Legend at 0x2739baa42b0>"
      ]
     },
     "execution_count": 18,
     "metadata": {},
     "output_type": "execute_result"
    },
    {
     "data": {
      "image/png": "[encoded data removed]",
      "text/plain": [
       "<Figure size 432x288 with 1 Axes>"
      ]
     },
     "metadata": {
      "needs_background": "light"
     },
     "output_type": "display_data"
    }
   ],
   "source": [
    "# accuracy 시각화\n",
    "accuracy = history.history['accuracy']\n",
    "\n",
    "epochs = range(1, len(accuracy)+1)\n",
    "\n",
    "plt.plot(epochs, accuracy, label='Training accuracy')\n",
    "plt.title(\"Training accuracy\")\n",
    "plt.xlabel('Epochs')\n",
    "plt.ylabel('Accuracy')\n",
    "plt.legend()"
   ]
  },
  {
   "cell_type": "markdown",
   "metadata": {},
   "source": [
    "## 모델 평가"
   ]
  },
  {
   "cell_type": "code",
   "execution_count": 19,
   "metadata": {},
   "outputs": [
    {
     "name": "stdout",
     "output_type": "stream",
     "text": [
      "3/3 [==============================] - 0s 342us/step - loss: 0.0980 - accuracy: 0.9600\n"
     ]
    }
   ],
   "source": [
    "test_CE_score = model.evaluate(X_test, Y_test)"
   ]
  },
  {
   "cell_type": "code",
   "execution_count": 20,
   "metadata": {},
   "outputs": [
    {
     "name": "stdout",
     "output_type": "stream",
     "text": [
      "test_CE_score = [0.09801459312438965, 0.9599999785423279]\n"
     ]
    }
   ],
   "source": [
    "print(f\"test_CE_score = {test_CE_score}\")\n",
    "# loss값, accuracy값"
   ]
  },
  {
   "cell_type": "code",
   "execution_count": null,
   "metadata": {},
   "outputs": [],
   "source": []
  }
 ],
 "metadata": {
  "kernelspec": {
   "display_name": "Python 3",
   "language": "python",
   "name": "python3"
  },
  "language_info": {
   "codemirror_mode": {
    "name": "ipython",
    "version": 3
   },
   "file_extension": ".py",
   "mimetype": "text/x-python",
   "name": "python",
   "nbconvert_exporter": "python",
   "pygments_lexer": "ipython3",
   "version": "3.8.3"
  }
 },
 "nbformat": 4,
 "nbformat_minor": 4
}

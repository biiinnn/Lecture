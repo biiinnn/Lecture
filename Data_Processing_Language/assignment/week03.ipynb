{
 "cells": [
  {
   "cell_type": "markdown",
   "metadata": {},
   "source": [
    "# 데이터처리언어_3주차 과제1_21510004 이예빈"
   ]
  },
  {
   "cell_type": "markdown",
   "metadata": {},
   "source": [
    "## Lab1: 십진수를 이진수로 변환\n",
    "\n",
    "십진수 숫자를 2로 계속 나눈 후, 그 나머지를 역순으로 취하면 이진수가 된다."
   ]
  },
  {
   "cell_type": "code",
   "execution_count": 1,
   "metadata": {},
   "outputs": [
    {
     "name": "stdout",
     "output_type": "stream",
     "text": [
      "십진수를 이진수로 변환하는 프로그램입니다.\n",
      "변환하고 싶은 십진수를 입력하세요: 10\n",
      "입력한 십진수를 이진수로 변환한 결과는 1010 입니다.\n"
     ]
    }
   ],
   "source": [
    "print(\"십진수를 이진수로 변환하는 프로그램입니다.\")\n",
    "\n",
    "num = int(input(\"변환하고 싶은 십진수를 입력하세요: \"))\n",
    "\n",
    "# 2로 나눈 나머지 저장\n",
    "reverse_binary = ''\n",
    "while(num != 0):\n",
    "    mod = num % 2\n",
    "    num = num // 2\n",
    "    reverse_binary += str(mod)\n",
    "\n",
    "# 저장된 값을 역순으로 출력\n",
    "binary = ''\n",
    "for char in reverse_binary:\n",
    "    binary = char + binary\n",
    "print(\"입력한 십진수를 이진수로 변환한 결과는\", binary, \"입니다.\")"
   ]
  },
  {
   "cell_type": "markdown",
   "metadata": {},
   "source": [
    "## Lab2: 숫자 찾기 게임\n",
    "\n",
    "- 먼저 컴퓨터가 1에서 100까지 중 임의의 숫자를 생성한다.\n",
    "- 다음으로 사용자가 추측하는 숫자를 입력하면 컴퓨터가 생성한 임의의 숫자보다 큰지, 작은지를 계속 비교해준다.\n",
    "- 정답을 맞힐 때까지 계속하다가 맞히면 '정답입니다. 입력한 숫자는 n입니다.'를 출력한다."
   ]
  },
  {
   "cell_type": "markdown",
   "metadata": {},
   "source": [
    "### 원하는 프로그램 실행결과 (예시)\n",
    "\n",
    "숫자를 맞혀보세요. (1~100)  \n",
    "230  \n",
    "숫자가 너무 큽니다.  \n",
    "20  \n",
    "숫자가 너무 큽니다.  \n",
    "10  \n",
    "숫자가 너무 큽니다.  \n",
    "1  \n",
    "숫자가 너무 작습니다.  \n",
    "3  \n",
    "정답입니다. 입력한 숫자는 3입니다.  "
   ]
  },
  {
   "cell_type": "code",
   "execution_count": 2,
   "metadata": {},
   "outputs": [
    {
     "name": "stdout",
     "output_type": "stream",
     "text": [
      "숫자를 맞혀보세요. (1~100)\n",
      "50\n",
      "숫자가 너무 큽니다.\n",
      "40\n",
      "숫자가 너무 큽니다.\n",
      "30\n",
      "숫자가 너무 큽니다.\n",
      "20\n",
      "숫자가 너무 큽니다.\n",
      "10\n",
      "숫자가 너무 큽니다.\n",
      "5\n",
      "숫자가 너무 큽니다.\n",
      "2\n",
      "숫자가 너무 큽니다.\n",
      "1\n",
      "정답입니다. 입력한 숫자는  1 입니다.\n"
     ]
    }
   ],
   "source": [
    "import random\n",
    "number = random.randint(1,101)\n",
    "\n",
    "print(\"숫자를 맞혀보세요. (1~100)\")\n",
    "\n",
    "while True:\n",
    "    guess = int(input())\n",
    "    \n",
    "    if guess > number:\n",
    "        print(\"숫자가 너무 큽니다.\")\n",
    "    elif guess < number:\n",
    "        print(\"숫자가 너무 작습니다.\")\n",
    "    else:\n",
    "        print(\"정답입니다. 입력한 숫자는 \",number, \"입니다.\")\n",
    "        break"
   ]
  },
  {
   "cell_type": "markdown",
   "metadata": {},
   "source": [
    "## Lab3: 연속적인 구구단 계산기\n",
    "\n",
    "- 프로그램이 시작되면 '구구단 몇 단을 계산할까요(1~9)?'가 출력된다.\n",
    "- 사용자는 계산하고 싶은 구구단 숫자를 입력한다.\n",
    "- 프로그램은 '구구단 n단을 계산합니다.'라는 메시지와 함께 구구단의 결과를 출력한다.\n",
    "- 기존 문제와 달리, 이번에는 프로그램이 계속 실행되다가 종료 조건에 해당하는 숫자(여기에서는 0)를 입력하면 종료된다."
   ]
  },
  {
   "cell_type": "markdown",
   "metadata": {},
   "source": [
    "### 원하는 프로그램 실행결과 (예시)\n",
    "\n",
    "구구단 몇 단을 계산할까요(1*~*9)?    \n",
    "3  \n",
    "구구단 3단을 계산합니다.  \n",
    "3 x 1 = 3  \n",
    "3 x 2 = 6  \n",
    "3 x 3 = 9  \n",
    "3 x 4 = 12  \n",
    "3 x 5 = 15  \n",
    "3 x 6 = 18  \n",
    "3 x 7 = 21  \n",
    "3 x 8 = 24   \n",
    "3 x 9 = 27  \n",
    "구구단 몇 단을 계산할까요(1*~*9)?  \n",
    "5  \n",
    "구구단 5단을 계산합니다.  \n",
    "5 x 1 = 5  \n",
    "5 x 2 = 10  \n",
    "5 x 3 = 15  \n",
    "5 x 4 = 20  \n",
    "5 x 5 = 25  \n",
    "5 x 6 = 30  \n",
    "5 x 7 = 35  \n",
    "5 x 8 = 40   \n",
    "5 x 9 = 45  \n",
    "구구단 몇 단을 계산할까요(1*~*9)?  \n",
    "0  \n",
    "구구단 게임을 종료합니다."
   ]
  },
  {
   "cell_type": "code",
   "execution_count": 3,
   "metadata": {},
   "outputs": [
    {
     "name": "stdout",
     "output_type": "stream",
     "text": [
      "구구단 몇 단을 계산할까요(1~9)?\n",
      "3\n",
      "구구단 3 단을 계산합니다.\n",
      "3 x 1 = 3\n",
      "3 x 2 = 6\n",
      "3 x 3 = 9\n",
      "3 x 4 = 12\n",
      "3 x 5 = 15\n",
      "3 x 6 = 18\n",
      "3 x 7 = 21\n",
      "3 x 8 = 24\n",
      "3 x 9 = 27\n",
      "구구단 몇 단을 계산할까요(1~9)?\n",
      "9\n",
      "구구단 9 단을 계산합니다.\n",
      "9 x 1 = 9\n",
      "9 x 2 = 18\n",
      "9 x 3 = 27\n",
      "9 x 4 = 36\n",
      "9 x 5 = 45\n",
      "9 x 6 = 54\n",
      "9 x 7 = 63\n",
      "9 x 8 = 72\n",
      "9 x 9 = 81\n",
      "구구단 몇 단을 계산할까요(1~9)?\n",
      "0\n",
      "구구단 게임을 종료합니다.\n"
     ]
    }
   ],
   "source": [
    "while True:\n",
    "    print(\"구구단 몇 단을 계산할까요(1~9)?\")\n",
    "    user_input = int(input())\n",
    "    \n",
    "    if(user_input == 0):\n",
    "        print(\"구구단 게임을 종료합니다.\")\n",
    "        break\n",
    "    else:\n",
    "        print(\"구구단\", user_input,\"단을 계산합니다.\")\n",
    "        for i in range(1,10):\n",
    "            result = user_input * i\n",
    "            print(user_input, \"x\", i, \"=\", result)"
   ]
  },
  {
   "cell_type": "markdown",
   "metadata": {},
   "source": [
    "## Lab4: 평균 구하기\n",
    "\n",
    "- 이차원 리스트이므로 각 행을 호출하고 각 열에 있는 값을 더해 학생별 평균을 구한다.\n",
    "- for문 2개를 사용한다."
   ]
  },
  {
   "cell_type": "markdown",
   "metadata": {},
   "source": [
    "### 원하는 프로그램 실행결과\n",
    "[47.0, 74.0, 51.0, 60.0, 90.0]"
   ]
  },
  {
   "cell_type": "code",
   "execution_count": 4,
   "metadata": {},
   "outputs": [],
   "source": [
    "kor_score = [49, 80, 20, 100, 80]\n",
    "math_score = [43, 60, 85, 30, 90]\n",
    "eng_score = [49, 82, 48, 50, 100]\n",
    "midterm_score = [kor_score, math_score, eng_score]"
   ]
  },
  {
   "cell_type": "code",
   "execution_count": 5,
   "metadata": {},
   "outputs": [
    {
     "name": "stdout",
     "output_type": "stream",
     "text": [
      "[47.0, 74.0, 51.0, 60.0, 90.0]\n"
     ]
    }
   ],
   "source": [
    "total_score = 0.0\n",
    "avg_score = []\n",
    "for i in range(5):\n",
    "    for j in range(3):\n",
    "        total_score += midterm_score[j][i]\n",
    "    avg_score.append(total_score // 3)\n",
    "    total_score = 0.0\n",
    "print(avg_score)"
   ]
  },
  {
   "cell_type": "code",
   "execution_count": null,
   "metadata": {},
   "outputs": [],
   "source": []
  }
 ],
 "metadata": {
  "kernelspec": {
   "display_name": "Python 3 (ipykernel)",
   "language": "python",
   "name": "python3"
  },
  "language_info": {
   "codemirror_mode": {
    "name": "ipython",
    "version": 3
   },
   "file_extension": ".py",
   "mimetype": "text/x-python",
   "name": "python",
   "nbconvert_exporter": "python",
   "pygments_lexer": "ipython3",
   "version": "3.9.7"
  }
 },
 "nbformat": 4,
 "nbformat_minor": 4
}

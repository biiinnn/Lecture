{
 "cells": [
  {
   "cell_type": "markdown",
   "metadata": {},
   "source": [
    "# 데이터처리언어_2주차 과제_21510004 이예빈"
   ]
  },
  {
   "cell_type": "markdown",
   "metadata": {},
   "source": [
    "## Lab: 화씨온도 변환기"
   ]
  },
  {
   "cell_type": "markdown",
   "metadata": {},
   "source": [
    "### 섭씨온도와 화씨온도 변환 공식\n",
    "화씨온도 = (섭씨온도 * 1.8) + 32"
   ]
  },
  {
   "cell_type": "markdown",
   "metadata": {},
   "source": [
    "### 원하는 프로그램 실행결과\n",
    "\n",
    "본 프로그램은 섭씨온도를 화씨온도로 변환하는 프로그램입니다.  \n",
    "변환하고 싶은 섭씨온도를 입력하세요.  \n",
    "32.2  \n",
    "섭씨온도: 32.2   \n",
    "화씨온도:89.96  "
   ]
  },
  {
   "cell_type": "code",
   "execution_count": 1,
   "metadata": {},
   "outputs": [
    {
     "name": "stdout",
     "output_type": "stream",
     "text": [
      "본 프로그램은 섭씨온도를 화씨온도로 변환하는 프로그램입니다.\n",
      "변환하고 싶은 섭씨온도를 입력하세요.\n",
      "32.2\n",
      "섭씨온도:  32.2\n",
      "화씨온도:  89.96\n"
     ]
    }
   ],
   "source": [
    "# 코드\n",
    "print(\"본 프로그램은 섭씨온도를 화씨온도로 변환하는 프로그램입니다.\")\n",
    "print(\"변환하고 싶은 섭씨온도를 입력하세요.\")\n",
    "user_input = input()\n",
    "\n",
    "result = (float(user_input) * 1.8) + 32\n",
    "\n",
    "print(\"섭씨온도: \", user_input)\n",
    "print(\"화씨온도: \", round(result,2))"
   ]
  },
  {
   "cell_type": "code",
   "execution_count": null,
   "metadata": {},
   "outputs": [],
   "source": []
  }
 ],
 "metadata": {
  "kernelspec": {
   "display_name": "Python 3",
   "language": "python",
   "name": "python3"
  },
  "language_info": {
   "codemirror_mode": {
    "name": "ipython",
    "version": 3
   },
   "file_extension": ".py",
   "mimetype": "text/x-python",
   "name": "python",
   "nbconvert_exporter": "python",
   "pygments_lexer": "ipython3",
   "version": "3.8.3"
  }
 },
 "nbformat": 4,
 "nbformat_minor": 4
}

{
 "cells": [
  {
   "cell_type": "markdown",
   "metadata": {},
   "source": [
    "# 데이터처리언어_4주차 과제_21510004 이예빈"
   ]
  },
  {
   "cell_type": "markdown",
   "metadata": {},
   "source": [
    "## Lab: 단어 카운팅"
   ]
  },
  {
   "cell_type": "markdown",
   "metadata": {},
   "source": [
    "### 'yesterday.txt' 에서 'Yesterday'라는 단어가 몇 번 나오는지 맞히는 단어 카운팅 프로그램"
   ]
  },
  {
   "cell_type": "code",
   "execution_count": 1,
   "metadata": {},
   "outputs": [],
   "source": [
    "f = open(\"yesterday.txt\", \"r\")\n",
    "yesterday_lyric = f.read()\n",
    "f.close()"
   ]
  },
  {
   "cell_type": "markdown",
   "metadata": {},
   "source": [
    "### 원하는 프로그램 실행결과\n",
    "Number of a Word 'Yesterday' 9"
   ]
  },
  {
   "cell_type": "code",
   "execution_count": 2,
   "metadata": {},
   "outputs": [
    {
     "data": {
      "text/plain": [
       "\"Yesterday all my troubles\\nseemed so far away.\\nNow it looks\\nas though they're here to stay.\\nOh, I believe in yesterday.\\n\\nSuddenly I'm not half\\nthe man I used to be.\\nThere's a shadow hanging over me.\\nOh, yesterday came suddenly.\\n\\nWhy she had to go,\\nI don't know,\\nshe wouldn't say.\\nI said something wrong,\\nnow I long for yesterday.\\n\\nYesterday love was\\nsuch an easy game to play.\\nNow I need a place to hide away.\\nOh, I believe in yesterday.\\n\\nWhy she had to go,\\nI don't know,\\nshe wouldn't say.\\nI said something wrong,\\nnow I long for yesterday.\\n\\nYesterday love was\\nsuch an easy game to play.\\nNow I need a place to hide away.\\nOh, I believe in yesterday.\\n\\nMm mm mm mm mm mm mm\\n\""
      ]
     },
     "execution_count": 2,
     "metadata": {},
     "output_type": "execute_result"
    }
   ],
   "source": [
    "yesterday_lyric"
   ]
  },
  {
   "cell_type": "code",
   "execution_count": 3,
   "metadata": {},
   "outputs": [
    {
     "name": "stdout",
     "output_type": "stream",
     "text": [
      "Number of a Word 'Yesterday' 3\n",
      "Number of a Word 'yesterday' 9\n"
     ]
    }
   ],
   "source": [
    "# 'Yesterday' 개수 세기\n",
    "yesterday_count = yesterday_lyric.count('Yesterday')\n",
    "print(\"Number of a Word 'Yesterday'\", yesterday_count)\n",
    "\n",
    "# 소문자로 변환\n",
    "yesterday_lyric2 = yesterday_lyric.lower()\n",
    "\n",
    "# 'yesterday' 개수 세기\n",
    "yesterday_count2 = yesterday_lyric2.count('yesterday')\n",
    "print(\"Number of a Word 'yesterday'\", yesterday_count2)"
   ]
  },
  {
   "cell_type": "code",
   "execution_count": null,
   "metadata": {},
   "outputs": [],
   "source": []
  }
 ],
 "metadata": {
  "kernelspec": {
   "display_name": "Python 3",
   "language": "python",
   "name": "python3"
  },
  "language_info": {
   "codemirror_mode": {
    "name": "ipython",
    "version": 3
   },
   "file_extension": ".py",
   "mimetype": "text/x-python",
   "name": "python",
   "nbconvert_exporter": "python",
   "pygments_lexer": "ipython3",
   "version": "3.8.3"
  }
 },
 "nbformat": 4,
 "nbformat_minor": 4
}

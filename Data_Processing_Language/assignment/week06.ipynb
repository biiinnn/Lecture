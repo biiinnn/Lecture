{
 "cells": [
  {
   "cell_type": "markdown",
   "metadata": {},
   "source": [
    "# 데이터처리언어_6주차 과제_21510004이예빈"
   ]
  },
  {
   "cell_type": "markdown",
   "metadata": {},
   "source": [
    "## 문제 1)\n",
    "### 다음과 같이 등록된 학생의 이름을 출력하고, 이름을 입력하면 전화번호를 출력해주는 딕셔너리 객체를 이용한 전화번호부 프로그램을 작성하십시오.  \n",
    "\n",
    "__[학생 리스트]__  \n",
    "홍길동: 010-1111-1111  \n",
    "이순신: 010-1111-2222  \n",
    "강감찬: 010-1111-3333  \n",
    "\n",
    "__[실행되어야 할 코드]__  \n",
    "아래 학생들의 전화번호를 조회할 수 있습니다.  \n",
    "홍길동 이순신 강감찬  \n",
    "전화번호를 조회하고자 하는 학생의 이름을 입력하십시오. (이름을 입력하면 입력한 학생에 대한 전화번호 출력)  "
   ]
  },
  {
   "cell_type": "code",
   "execution_count": 1,
   "metadata": {},
   "outputs": [
    {
     "name": "stdout",
     "output_type": "stream",
     "text": [
      "아래 학생들의 전화번호를 조회할 수 있습니다.\n",
      "홍길동 이순신 강감찬 \n",
      "전화번호를 조회하고자 하는 학생의 이름을 입력하십시오.\n",
      "강감찬\n",
      "입력하신 학생의 전화번호는 010-1111-3333 입니다.\n"
     ]
    }
   ],
   "source": [
    "student_info = {'홍길동':'010-1111-1111', '이순신':'010-1111-2222', '강감찬':'010-1111-3333'}\n",
    "\n",
    "print(\"아래 학생들의 전화번호를 조회할 수 있습니다.\")\n",
    "for key in student_info.keys():\n",
    "    print(key, end=' ')\n",
    "\n",
    "print(\"\\n전화번호를 조회하고자 하는 학생의 이름을 입력하십시오.\")\n",
    "user_input = input()\n",
    "\n",
    "\n",
    "if user_input in student_info:\n",
    "    print(\"입력하신 학생의 전화번호는\", student_info[user_input], \"입니다.\")\n",
    "else:\n",
    "    print(\"입력하신 학생은 존재하지 않습니다.\")"
   ]
  },
  {
   "cell_type": "markdown",
   "metadata": {},
   "source": [
    "## 문제 2)\n",
    "### 리스트의 원소를 키로 하고, 그 원소의 length를 값으로 갖는 딕셔너리 객체를 생성하는 코드를 작성해봅시다. 이 때 원소의 공백은 제거합니다. \n",
    "__리스트 fruit는 다음과 같습니다.__    \n",
    "fruit = ['   apple    ','banana','  melon']"
   ]
  },
  {
   "cell_type": "code",
   "execution_count": 2,
   "metadata": {},
   "outputs": [
    {
     "name": "stdout",
     "output_type": "stream",
     "text": [
      "{'apple': 5, 'banana': 6, 'melon': 5}\n",
      "{'apple': 5, 'banana': 6, 'melon': 5}\n"
     ]
    }
   ],
   "source": [
    "fruit = ['apple','banana','melon']\n",
    "new_fruit1={}\n",
    "\n",
    "for i in range(len(fruit)):\n",
    "    new_fruit1[fruit[i].strip()] = len(fruit[i].strip())\n",
    "\n",
    "print(new_fruit1)\n",
    "\n",
    "#리스트 컴프리헨션\n",
    "new_fruit2 = {fruit[i].strip() : len(fruit[i].strip()) for i in range(len(fruit))}\n",
    "\n",
    "print(new_fruit2)"
   ]
  },
  {
   "cell_type": "markdown",
   "metadata": {},
   "source": [
    "## 문제 3)\n",
    "### 1~10까지의 정수를 항목으로 갖는 리스트 객체에서 filter 함수와 람다식을 이용해 짝수만을 선택한 후, map 함수와 람다식을 이용해 항목의 제곱 값을 갖는 리스트를 반환하는 프로그램을 작성하십시오."
   ]
  },
  {
   "cell_type": "code",
   "execution_count": 3,
   "metadata": {},
   "outputs": [
    {
     "name": "stdout",
     "output_type": "stream",
     "text": [
      "[2, 4, 6, 8, 10]\n",
      "[4, 16, 36, 64, 100]\n"
     ]
    }
   ],
   "source": [
    "a = [1, 2, 3, 4, 5, 6, 7, 8, 9, 10]\n",
    "\n",
    "#짝수만 선택\n",
    "even = list(filter(lambda x: (x % 2 == 0), a))\n",
    "print(even)\n",
    "\n",
    "#제곱 값 반환\n",
    "result = list(map(lambda x: pow(x,2) , even))\n",
    "print(result)"
   ]
  }
 ],
 "metadata": {
  "kernelspec": {
   "display_name": "Python 3",
   "language": "python",
   "name": "python3"
  },
  "language_info": {
   "codemirror_mode": {
    "name": "ipython",
    "version": 3
   },
   "file_extension": ".py",
   "mimetype": "text/x-python",
   "name": "python",
   "nbconvert_exporter": "python",
   "pygments_lexer": "ipython3",
   "version": "3.8.3"
  }
 },
 "nbformat": 4,
 "nbformat_minor": 4
}

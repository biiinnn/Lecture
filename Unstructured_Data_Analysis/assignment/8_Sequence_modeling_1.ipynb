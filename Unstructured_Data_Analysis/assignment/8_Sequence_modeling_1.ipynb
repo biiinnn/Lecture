{
 "cells": [
  {
   "cell_type": "markdown",
   "metadata": {},
   "source": [
    "# Recent paper (Seq2seq, Attention) toy example 과제_17101971이예빈"
   ]
  },
  {
   "cell_type": "markdown",
   "metadata": {},
   "source": [
    "## SimpleRNN"
   ]
  },
  {
   "cell_type": "code",
   "execution_count": 1,
   "metadata": {},
   "outputs": [
    {
     "name": "stderr",
     "output_type": "stream",
     "text": [
      "Using TensorFlow backend.\n"
     ]
    },
    {
     "data": {
      "text/plain": [
       "'2.3.1'"
      ]
     },
     "execution_count": 1,
     "metadata": {},
     "output_type": "execute_result"
    }
   ],
   "source": [
    "import keras\n",
    "keras.__version__"
   ]
  },
  {
   "cell_type": "code",
   "execution_count": 2,
   "metadata": {},
   "outputs": [],
   "source": [
    "from keras.layers import SimpleRNN"
   ]
  },
  {
   "cell_type": "code",
   "execution_count": 3,
   "metadata": {},
   "outputs": [
    {
     "name": "stdout",
     "output_type": "stream",
     "text": [
      "Model: \"sequential\"\n",
      "_________________________________________________________________\n",
      "Layer (type)                 Output Shape              Param #   \n",
      "=================================================================\n",
      "embedding (Embedding)        (None, None, 32)          320000    \n",
      "_________________________________________________________________\n",
      "simple_rnn (SimpleRNN)       (None, 32)                2080      \n",
      "=================================================================\n",
      "Total params: 322,080\n",
      "Trainable params: 322,080\n",
      "Non-trainable params: 0\n",
      "_________________________________________________________________\n"
     ]
    }
   ],
   "source": [
    "from tensorflow.keras.models import Sequential\n",
    "from tensorflow.keras.layers import Embedding, SimpleRNN\n",
    "\n",
    "#각 타임스텝의 출력을 모은 전체 시퀀스를 반환\n",
    "model = Sequential()\n",
    "model.add(Embedding(10000, 32))\n",
    "model.add(SimpleRNN(32))  #층 개수\n",
    "model.summary()"
   ]
  },
  {
   "cell_type": "code",
   "execution_count": 4,
   "metadata": {},
   "outputs": [
    {
     "name": "stdout",
     "output_type": "stream",
     "text": [
      "Model: \"sequential_1\"\n",
      "_________________________________________________________________\n",
      "Layer (type)                 Output Shape              Param #   \n",
      "=================================================================\n",
      "embedding_1 (Embedding)      (None, None, 32)          320000    \n",
      "_________________________________________________________________\n",
      "simple_rnn_1 (SimpleRNN)     (None, None, 32)          2080      \n",
      "=================================================================\n",
      "Total params: 322,080\n",
      "Trainable params: 322,080\n",
      "Non-trainable params: 0\n",
      "_________________________________________________________________\n"
     ]
    }
   ],
   "source": [
    "#입력 시퀀스에 대한 마지막 출력만 반환\n",
    "model = Sequential()\n",
    "model.add(Embedding(10000, 32))\n",
    "model.add(SimpleRNN(32, return_sequences=True))\n",
    "model.summary()"
   ]
  },
  {
   "cell_type": "markdown",
   "metadata": {},
   "source": [
    "### IMDB 영화 리뷰 분류 문제"
   ]
  },
  {
   "cell_type": "code",
   "execution_count": 5,
   "metadata": {},
   "outputs": [
    {
     "name": "stdout",
     "output_type": "stream",
     "text": [
      "데이터 로딩...\n",
      "25000 훈련 시퀀스\n",
      "25000 테스트 시퀀스\n",
      "시퀀스 패딩 (samples x time)\n",
      "input_train 크기: (25000, 500)\n",
      "input_test 크기: (25000, 500)\n"
     ]
    }
   ],
   "source": [
    "from keras.datasets import imdb\n",
    "from keras.preprocessing import sequence\n",
    "\n",
    "max_features = 10000  # 특성으로 사용할 단어의 수\n",
    "maxlen = 500  # 사용할 텍스트의 길이(가장 빈번한 max_features 개의 단어만 사용합니다)\n",
    "batch_size = 32\n",
    "\n",
    "print('데이터 로딩...')\n",
    "(input_train, y_train), (input_test, y_test) = imdb.load_data(num_words=max_features)\n",
    "print(len(input_train), '훈련 시퀀스')\n",
    "print(len(input_test), '테스트 시퀀스')\n",
    "\n",
    "print('시퀀스 패딩 (samples x time)')\n",
    "input_train = sequence.pad_sequences(input_train, maxlen=maxlen)\n",
    "input_test = sequence.pad_sequences(input_test, maxlen=maxlen)\n",
    "print('input_train 크기:', input_train.shape)\n",
    "print('input_test 크기:', input_test.shape)"
   ]
  },
  {
   "cell_type": "code",
   "execution_count": 6,
   "metadata": {
    "scrolled": true
   },
   "outputs": [
    {
     "name": "stdout",
     "output_type": "stream",
     "text": [
      "Epoch 1/10\n",
      "157/157 [==============================] - 14s 87ms/step - loss: 0.5945 - acc: 0.6769 - val_loss: 0.4425 - val_acc: 0.8152\n",
      "Epoch 2/10\n",
      "157/157 [==============================] - 13s 85ms/step - loss: 0.3634 - acc: 0.8522 - val_loss: 0.5278 - val_acc: 0.7324\n",
      "Epoch 3/10\n",
      "157/157 [==============================] - 13s 85ms/step - loss: 0.2753 - acc: 0.8911 - val_loss: 0.5016 - val_acc: 0.7596\n",
      "Epoch 4/10\n",
      "157/157 [==============================] - 14s 86ms/step - loss: 0.2140 - acc: 0.9193 - val_loss: 0.4831 - val_acc: 0.7830\n",
      "Epoch 5/10\n",
      "157/157 [==============================] - 13s 85ms/step - loss: 0.1619 - acc: 0.9399 - val_loss: 0.4138 - val_acc: 0.8348\n",
      "Epoch 6/10\n",
      "157/157 [==============================] - 14s 87ms/step - loss: 0.1143 - acc: 0.9588 - val_loss: 0.4903 - val_acc: 0.8458\n",
      "Epoch 7/10\n",
      "157/157 [==============================] - 14s 88ms/step - loss: 0.0749 - acc: 0.9772 - val_loss: 0.5123 - val_acc: 0.8028\n",
      "Epoch 8/10\n",
      "157/157 [==============================] - 14s 87ms/step - loss: 0.0501 - acc: 0.9839 - val_loss: 0.4971 - val_acc: 0.8436\n",
      "Epoch 9/10\n",
      "157/157 [==============================] - 14s 88ms/step - loss: 0.0423 - acc: 0.9883 - val_loss: 0.5655 - val_acc: 0.8242\n",
      "Epoch 10/10\n",
      "157/157 [==============================] - 14s 87ms/step - loss: 0.0223 - acc: 0.9934 - val_loss: 0.7962 - val_acc: 0.7554\n"
     ]
    }
   ],
   "source": [
    "from tensorflow.keras.layers import Dense\n",
    "\n",
    "model = Sequential()\n",
    "model.add(Embedding(max_features, 32))\n",
    "model.add(SimpleRNN(32))\n",
    "model.add(Dense(1, activation='sigmoid'))\n",
    "\n",
    "model.compile(optimizer='rmsprop', loss='binary_crossentropy', metrics=['acc'])\n",
    "history = model.fit(input_train, y_train,\n",
    "                    epochs=10,\n",
    "                    batch_size=128,\n",
    "                    validation_split=0.2)"
   ]
  },
  {
   "cell_type": "code",
   "execution_count": 7,
   "metadata": {
    "scrolled": true
   },
   "outputs": [
    {
     "data": {
      "image/png": "[encoded data removed]",
      "text/plain": [
       "<Figure size 432x288 with 1 Axes>"
      ]
     },
     "metadata": {
      "needs_background": "light"
     },
     "output_type": "display_data"
    },
    {
     "data": {
      "image/png": "[encoded data removed]",
      "text/plain": [
       "<Figure size 432x288 with 1 Axes>"
      ]
     },
     "metadata": {
      "needs_background": "light"
     },
     "output_type": "display_data"
    }
   ],
   "source": [
    "import matplotlib.pyplot as plt\n",
    "\n",
    "acc = history.history['acc']\n",
    "val_acc = history.history['val_acc']\n",
    "loss = history.history['loss']\n",
    "val_loss = history.history['val_loss']\n",
    "\n",
    "epochs = range(1, len(acc) + 1)\n",
    "\n",
    "plt.plot(epochs, acc, 'bo', label='Training acc')\n",
    "plt.plot(epochs, val_acc, 'b', label='Validation acc')\n",
    "plt.title('Training and validation accuracy')\n",
    "plt.legend()\n",
    "\n",
    "plt.figure()\n",
    "\n",
    "plt.plot(epochs, loss, 'bo', label='Training loss')\n",
    "plt.plot(epochs, val_loss, 'b', label='Validation loss')\n",
    "plt.title('Training and validation loss')\n",
    "plt.legend()\n",
    "\n",
    "plt.show()"
   ]
  },
  {
   "cell_type": "markdown",
   "metadata": {},
   "source": [
    "## LSTM\n",
    "### IMDB 영화 리뷰 분류 문제"
   ]
  },
  {
   "cell_type": "code",
   "execution_count": 8,
   "metadata": {
    "scrolled": true
   },
   "outputs": [
    {
     "name": "stdout",
     "output_type": "stream",
     "text": [
      "Epoch 1/10\n",
      "157/157 [==============================] - 29s 185ms/step - loss: 0.5098 - acc: 0.7581 - val_loss: 0.4106 - val_acc: 0.8358\n",
      "Epoch 2/10\n",
      "157/157 [==============================] - 25s 161ms/step - loss: 0.2924 - acc: 0.8879 - val_loss: 0.2884 - val_acc: 0.8820\n",
      "Epoch 3/10\n",
      "157/157 [==============================] - 25s 160ms/step - loss: 0.2337 - acc: 0.9142 - val_loss: 0.3044 - val_acc: 0.8800\n",
      "Epoch 4/10\n",
      "157/157 [==============================] - 25s 161ms/step - loss: 0.2011 - acc: 0.9265 - val_loss: 0.2868 - val_acc: 0.8936\n",
      "Epoch 5/10\n",
      "157/157 [==============================] - 25s 159ms/step - loss: 0.1736 - acc: 0.9369 - val_loss: 0.3412 - val_acc: 0.8876\n",
      "Epoch 6/10\n",
      "157/157 [==============================] - 25s 158ms/step - loss: 0.1573 - acc: 0.9451 - val_loss: 0.3922 - val_acc: 0.8332\n",
      "Epoch 7/10\n",
      "157/157 [==============================] - 24s 156ms/step - loss: 0.1378 - acc: 0.9524 - val_loss: 0.3419 - val_acc: 0.8882\n",
      "Epoch 8/10\n",
      "157/157 [==============================] - 25s 160ms/step - loss: 0.1287 - acc: 0.9567 - val_loss: 0.3568 - val_acc: 0.8670\n",
      "Epoch 9/10\n",
      "157/157 [==============================] - 25s 161ms/step - loss: 0.1221 - acc: 0.9578 - val_loss: 0.3302 - val_acc: 0.8628\n",
      "Epoch 10/10\n",
      "157/157 [==============================] - 25s 162ms/step - loss: 0.1138 - acc: 0.9615 - val_loss: 0.3333 - val_acc: 0.8802\n"
     ]
    }
   ],
   "source": [
    "from tensorflow.keras.layers import LSTM\n",
    "\n",
    "model = Sequential()\n",
    "model.add(Embedding(max_features, 32))\n",
    "model.add(LSTM(32))\n",
    "model.add(Dense(1, activation='sigmoid'))\n",
    "\n",
    "model.compile(optimizer='rmsprop',\n",
    "              loss='binary_crossentropy',\n",
    "              metrics=['acc'])\n",
    "history = model.fit(input_train, y_train,\n",
    "                    epochs=10,\n",
    "                    batch_size=128,\n",
    "                    validation_split=0.2)"
   ]
  },
  {
   "cell_type": "code",
   "execution_count": 9,
   "metadata": {
    "scrolled": true
   },
   "outputs": [
    {
     "data": {
      "image/png": "[encoded data removed]",
      "text/plain": [
       "<Figure size 432x288 with 1 Axes>"
      ]
     },
     "metadata": {
      "needs_background": "light"
     },
     "output_type": "display_data"
    },
    {
     "data": {
      "image/png": "[encoded data removed]",
      "text/plain": [
       "<Figure size 432x288 with 1 Axes>"
      ]
     },
     "metadata": {
      "needs_background": "light"
     },
     "output_type": "display_data"
    }
   ],
   "source": [
    "acc = history.history['acc']\n",
    "val_acc = history.history['val_acc']\n",
    "loss = history.history['loss']\n",
    "val_loss = history.history['val_loss']\n",
    "\n",
    "epochs = range(1, len(acc) + 1)\n",
    "\n",
    "plt.plot(epochs, acc, 'bo', label='Training acc')\n",
    "plt.plot(epochs, val_acc, 'b', label='Validation acc')\n",
    "plt.title('Training and validation accuracy')\n",
    "plt.legend()\n",
    "\n",
    "plt.figure()\n",
    "\n",
    "plt.plot(epochs, loss, 'bo', label='Training loss')\n",
    "plt.plot(epochs, val_loss, 'b', label='Validation loss')\n",
    "plt.title('Training and validation loss')\n",
    "plt.legend()\n",
    "\n",
    "plt.show()"
   ]
  },
  {
   "cell_type": "markdown",
   "metadata": {},
   "source": [
    "## CNN\n",
    "### 1D 컨브넷_IMDB 영화 리뷰 분류 문제"
   ]
  },
  {
   "cell_type": "code",
   "execution_count": 10,
   "metadata": {
    "scrolled": true
   },
   "outputs": [
    {
     "name": "stdout",
     "output_type": "stream",
     "text": [
      "Model: \"sequential_4\"\n",
      "_________________________________________________________________\n",
      "Layer (type)                 Output Shape              Param #   \n",
      "=================================================================\n",
      "embedding_4 (Embedding)      (None, 500, 128)          1280000   \n",
      "_________________________________________________________________\n",
      "conv1d (Conv1D)              (None, 494, 32)           28704     \n",
      "_________________________________________________________________\n",
      "max_pooling1d (MaxPooling1D) (None, 98, 32)            0         \n",
      "_________________________________________________________________\n",
      "conv1d_1 (Conv1D)            (None, 92, 32)            7200      \n",
      "_________________________________________________________________\n",
      "global_max_pooling1d (Global (None, 32)                0         \n",
      "_________________________________________________________________\n",
      "dense_2 (Dense)              (None, 1)                 33        \n",
      "=================================================================\n",
      "Total params: 1,315,937\n",
      "Trainable params: 1,315,937\n",
      "Non-trainable params: 0\n",
      "_________________________________________________________________\n",
      "Epoch 1/10\n",
      "157/157 [==============================] - 22s 141ms/step - loss: 0.8044 - acc: 0.5087 - val_loss: 0.6893 - val_acc: 0.5326\n",
      "Epoch 2/10\n",
      "157/157 [==============================] - 20s 130ms/step - loss: 0.6722 - acc: 0.6400 - val_loss: 0.6740 - val_acc: 0.5888\n",
      "Epoch 3/10\n",
      "157/157 [==============================] - 20s 129ms/step - loss: 0.6361 - acc: 0.7428 - val_loss: 0.6343 - val_acc: 0.6946\n",
      "Epoch 4/10\n",
      "157/157 [==============================] - 20s 130ms/step - loss: 0.5608 - acc: 0.7966 - val_loss: 0.5275 - val_acc: 0.7800\n",
      "Epoch 5/10\n",
      "157/157 [==============================] - 20s 129ms/step - loss: 0.4382 - acc: 0.8418 - val_loss: 0.4323 - val_acc: 0.8280\n",
      "Epoch 6/10\n",
      "157/157 [==============================] - 20s 128ms/step - loss: 0.3543 - acc: 0.8730 - val_loss: 0.4101 - val_acc: 0.8498\n",
      "Epoch 7/10\n",
      "157/157 [==============================] - 20s 126ms/step - loss: 0.3086 - acc: 0.8916 - val_loss: 0.4281 - val_acc: 0.8512\n",
      "Epoch 8/10\n",
      "157/157 [==============================] - 20s 128ms/step - loss: 0.2733 - acc: 0.9065 - val_loss: 0.4120 - val_acc: 0.8676\n",
      "Epoch 9/10\n",
      "157/157 [==============================] - 20s 127ms/step - loss: 0.2453 - acc: 0.9165 - val_loss: 0.4624 - val_acc: 0.8646\n",
      "Epoch 10/10\n",
      "157/157 [==============================] - 20s 127ms/step - loss: 0.2242 - acc: 0.9259 - val_loss: 0.4567 - val_acc: 0.8708\n"
     ]
    }
   ],
   "source": [
    "from tensorflow.keras import layers\n",
    "from tensorflow.keras.optimizers import RMSprop\n",
    "\n",
    "model = Sequential()\n",
    "model.add(layers.Embedding(max_features, 128, input_length=maxlen))\n",
    "model.add(layers.Conv1D(32, 7, activation='relu'))\n",
    "model.add(layers.MaxPooling1D(5))\n",
    "model.add(layers.Conv1D(32, 7, activation='relu'))\n",
    "model.add(layers.GlobalMaxPooling1D())\n",
    "model.add(layers.Dense(1))\n",
    "\n",
    "model.summary()\n",
    "\n",
    "model.compile(optimizer=RMSprop(lr=1e-4),\n",
    "              loss='binary_crossentropy',\n",
    "              metrics=['acc'])\n",
    "history = model.fit(input_train, y_train,\n",
    "                    epochs=10,\n",
    "                    batch_size=128,\n",
    "                    validation_split=0.2)"
   ]
  },
  {
   "cell_type": "code",
   "execution_count": 11,
   "metadata": {
    "scrolled": true
   },
   "outputs": [
    {
     "data": {
      "image/png": "[encoded data removed]",
      "text/plain": [
       "<Figure size 432x288 with 1 Axes>"
      ]
     },
     "metadata": {
      "needs_background": "light"
     },
     "output_type": "display_data"
    },
    {
     "data": {
      "image/png": "[encoded data removed]",
      "text/plain": [
       "<Figure size 432x288 with 1 Axes>"
      ]
     },
     "metadata": {
      "needs_background": "light"
     },
     "output_type": "display_data"
    }
   ],
   "source": [
    "acc = history.history['acc']\n",
    "val_acc = history.history['val_acc']\n",
    "loss = history.history['loss']\n",
    "val_loss = history.history['val_loss']\n",
    "\n",
    "epochs = range(1, len(acc) + 1)\n",
    "\n",
    "plt.plot(epochs, acc, 'bo', label='Training acc')\n",
    "plt.plot(epochs, val_acc, 'b', label='Validation acc')\n",
    "plt.title('Training and validation accuracy')\n",
    "plt.legend()\n",
    "\n",
    "plt.figure()\n",
    "\n",
    "plt.plot(epochs, loss, 'bo', label='Training loss')\n",
    "plt.plot(epochs, val_loss, 'b', label='Validation loss')\n",
    "plt.title('Training and validation loss')\n",
    "plt.legend()\n",
    "\n",
    "plt.show()"
   ]
  },
  {
   "cell_type": "markdown",
   "metadata": {},
   "source": [
    "### 1D 컨브넷_기온 예측 문제"
   ]
  },
  {
   "cell_type": "code",
   "execution_count": 12,
   "metadata": {},
   "outputs": [],
   "source": [
    "import os\n",
    "import numpy as np\n",
    "\n",
    "data_dir = './datasets/'\n",
    "fname = os.path.join(data_dir, 'jena_climate_2009_2016.csv')\n",
    "\n",
    "f = open(fname)\n",
    "data = f.read()\n",
    "f.close()\n",
    "\n",
    "lines = data.split('\\n')\n",
    "header = lines[0].split(',')\n",
    "lines = lines[1:]\n",
    "\n",
    "float_data = np.zeros((len(lines), len(header) - 1))\n",
    "for i, line in enumerate(lines):\n",
    "    values = [float(x) for x in line.split(',')[1:]]\n",
    "    float_data[i, :] = values\n",
    "    \n",
    "mean = float_data[:200000].mean(axis=0)\n",
    "float_data -= mean\n",
    "std = float_data[:200000].std(axis=0)\n",
    "float_data /= std\n",
    "\n",
    "def generator(data, lookback, delay, min_index, max_index,\n",
    "              shuffle=False, batch_size=128, step=6):\n",
    "    if max_index is None:\n",
    "        max_index = len(data) - delay - 1\n",
    "    i = min_index + lookback\n",
    "    while 1:\n",
    "        if shuffle:\n",
    "            rows = np.random.randint(\n",
    "                min_index + lookback, max_index, size=batch_size)\n",
    "        else:\n",
    "            if i + batch_size >= max_index:\n",
    "                i = min_index + lookback\n",
    "            rows = np.arange(i, min(i + batch_size, max_index))\n",
    "            i += len(rows)\n",
    "\n",
    "        samples = np.zeros((len(rows),\n",
    "                           lookback // step,\n",
    "                           data.shape[-1]))\n",
    "        targets = np.zeros((len(rows),))\n",
    "        for j, row in enumerate(rows):\n",
    "            indices = range(rows[j] - lookback, rows[j], step)\n",
    "            samples[j] = data[indices]\n",
    "            targets[j] = data[rows[j] + delay][1]\n",
    "        yield samples, targets\n",
    "        \n",
    "lookback = 1440\n",
    "step = 6\n",
    "delay = 144\n",
    "batch_size = 128\n",
    "\n",
    "train_gen = generator(float_data,\n",
    "                      lookback=lookback,\n",
    "                      delay=delay,\n",
    "                      min_index=0,\n",
    "                      max_index=200000,\n",
    "                      shuffle=True,\n",
    "                      step=step, \n",
    "                      batch_size=batch_size)\n",
    "val_gen = generator(float_data,\n",
    "                    lookback=lookback,\n",
    "                    delay=delay,\n",
    "                    min_index=200001,\n",
    "                    max_index=300000,\n",
    "                    step=step,\n",
    "                    batch_size=batch_size)\n",
    "test_gen = generator(float_data,\n",
    "                     lookback=lookback,\n",
    "                     delay=delay,\n",
    "                     min_index=300001,\n",
    "                     max_index=None,\n",
    "                     step=step,\n",
    "                     batch_size=batch_size)\n",
    "\n",
    "# 전체 검증 세트를 순회하기 위해 val_gen에서 추출할 횟수\n",
    "val_steps = (300000 - 200001 - lookback) // batch_size\n",
    "\n",
    "# 전체 테스트 세트를 순회하기 위해 test_gen에서 추출할 횟수\n",
    "test_steps = (len(float_data) - 300001 - lookback) // batch_size"
   ]
  },
  {
   "cell_type": "code",
   "execution_count": 13,
   "metadata": {
    "scrolled": true
   },
   "outputs": [
    {
     "name": "stdout",
     "output_type": "stream",
     "text": [
      "WARNING:tensorflow:From <ipython-input-13-ac25df107ca2>:16: Model.fit_generator (from tensorflow.python.keras.engine.training) is deprecated and will be removed in a future version.\n",
      "Instructions for updating:\n",
      "Please use Model.fit, which supports generators.\n",
      "Epoch 1/20\n",
      "500/500 [==============================] - 15s 29ms/step - loss: 0.4209 - val_loss: 0.4313\n",
      "Epoch 2/20\n",
      "500/500 [==============================] - 15s 29ms/step - loss: 0.3653 - val_loss: 0.4381\n",
      "Epoch 3/20\n",
      "500/500 [==============================] - 15s 30ms/step - loss: 0.3385 - val_loss: 0.4557\n",
      "Epoch 4/20\n",
      "500/500 [==============================] - 15s 30ms/step - loss: 0.3186 - val_loss: 0.4422\n",
      "Epoch 5/20\n",
      "500/500 [==============================] - 16s 31ms/step - loss: 0.3068 - val_loss: 0.4484\n",
      "Epoch 6/20\n",
      "500/500 [==============================] - 15s 30ms/step - loss: 0.2983 - val_loss: 0.4466\n",
      "Epoch 7/20\n",
      "500/500 [==============================] - 15s 30ms/step - loss: 0.2884 - val_loss: 0.4685\n",
      "Epoch 8/20\n",
      "500/500 [==============================] - 15s 30ms/step - loss: 0.2834 - val_loss: 0.4572\n",
      "Epoch 9/20\n",
      "500/500 [==============================] - 15s 30ms/step - loss: 0.2772 - val_loss: 0.4516\n",
      "Epoch 10/20\n",
      "500/500 [==============================] - 15s 30ms/step - loss: 0.2722 - val_loss: 0.4594\n",
      "Epoch 11/20\n",
      "500/500 [==============================] - 15s 31ms/step - loss: 0.2699 - val_loss: 0.4597\n",
      "Epoch 12/20\n",
      "500/500 [==============================] - 15s 30ms/step - loss: 0.2663 - val_loss: 0.4769\n",
      "Epoch 13/20\n",
      "500/500 [==============================] - 15s 30ms/step - loss: 0.2615 - val_loss: 0.4782\n",
      "Epoch 14/20\n",
      "500/500 [==============================] - 15s 30ms/step - loss: 0.2576 - val_loss: 0.4802\n",
      "Epoch 15/20\n",
      "500/500 [==============================] - 15s 30ms/step - loss: 0.2562 - val_loss: 0.4713\n",
      "Epoch 16/20\n",
      "500/500 [==============================] - 15s 30ms/step - loss: 0.2522 - val_loss: 0.4779\n",
      "Epoch 17/20\n",
      "500/500 [==============================] - 15s 30ms/step - loss: 0.2505 - val_loss: 0.4774\n",
      "Epoch 18/20\n",
      "500/500 [==============================] - 15s 30ms/step - loss: 0.2497 - val_loss: 0.4988\n",
      "Epoch 19/20\n",
      "500/500 [==============================] - 16s 32ms/step - loss: 0.2464 - val_loss: 0.4691\n",
      "Epoch 20/20\n",
      "500/500 [==============================] - 16s 32ms/step - loss: 0.2425 - val_loss: 0.4891\n"
     ]
    }
   ],
   "source": [
    "model = Sequential()\n",
    "model.add(layers.Conv1D(32, 5, activation='relu',\n",
    "                        input_shape=(None, float_data.shape[-1])))\n",
    "model.add(layers.MaxPooling1D(3))\n",
    "model.add(layers.Conv1D(32, 5, activation='relu'))\n",
    "model.add(layers.MaxPooling1D(3))\n",
    "model.add(layers.Conv1D(32, 5, activation='relu'))\n",
    "model.add(layers.GlobalMaxPooling1D())\n",
    "model.add(layers.Dense(1))\n",
    "\n",
    "model.compile(optimizer=RMSprop(), loss='mae')\n",
    "history = model.fit_generator(train_gen,\n",
    "                              steps_per_epoch=500,\n",
    "                              epochs=20,\n",
    "                              validation_data=val_gen,\n",
    "                              validation_steps=val_steps)"
   ]
  },
  {
   "cell_type": "code",
   "execution_count": 14,
   "metadata": {},
   "outputs": [
    {
     "data": {
      "image/png": "[encoded data removed]",
      "text/plain": [
       "<Figure size 432x288 with 1 Axes>"
      ]
     },
     "metadata": {
      "needs_background": "light"
     },
     "output_type": "display_data"
    }
   ],
   "source": [
    "loss = history.history['loss']\n",
    "val_loss = history.history['val_loss']\n",
    "\n",
    "epochs = range(1, len(loss) + 1)\n",
    "\n",
    "plt.figure()\n",
    "\n",
    "plt.plot(epochs, loss, 'bo', label='Training loss')\n",
    "plt.plot(epochs, val_loss, 'b', label='Validation loss')\n",
    "plt.title('Training and validation loss')\n",
    "plt.legend()\n",
    "\n",
    "plt.show()"
   ]
  },
  {
   "cell_type": "markdown",
   "metadata": {},
   "source": [
    "1D 컨브넷을 RNN이전 전처리 단계로 사용: step수 절반으로 줄임"
   ]
  },
  {
   "cell_type": "code",
   "execution_count": 15,
   "metadata": {},
   "outputs": [],
   "source": [
    "# 이전에는 6이었습니다(시간마다 1 포인트); 이제는 3 입니다(30분마다 1 포인트)\n",
    "step = 3\n",
    "lookback = 1440  # 변경 안 됨\n",
    "delay = 144 # 변경 안 됨\n",
    "\n",
    "train_gen = generator(float_data,\n",
    "                      lookback=lookback,\n",
    "                      delay=delay,\n",
    "                      min_index=0,\n",
    "                      max_index=200000,\n",
    "                      shuffle=True,\n",
    "                      step=step)\n",
    "val_gen = generator(float_data,\n",
    "                    lookback=lookback,\n",
    "                    delay=delay,\n",
    "                    min_index=200001,\n",
    "                    max_index=300000,\n",
    "                    step=step)\n",
    "test_gen = generator(float_data,\n",
    "                     lookback=lookback,\n",
    "                     delay=delay,\n",
    "                     min_index=300001,\n",
    "                     max_index=None,\n",
    "                     step=step)\n",
    "val_steps = (300000 - 200001 - lookback) // 128\n",
    "test_steps = (len(float_data) - 300001 - lookback) // 128"
   ]
  },
  {
   "cell_type": "code",
   "execution_count": 16,
   "metadata": {
    "scrolled": true
   },
   "outputs": [
    {
     "name": "stdout",
     "output_type": "stream",
     "text": [
      "Model: \"sequential_6\"\n",
      "_________________________________________________________________\n",
      "Layer (type)                 Output Shape              Param #   \n",
      "=================================================================\n",
      "conv1d_5 (Conv1D)            (None, None, 32)          2272      \n",
      "_________________________________________________________________\n",
      "max_pooling1d_3 (MaxPooling1 (None, None, 32)          0         \n",
      "_________________________________________________________________\n",
      "conv1d_6 (Conv1D)            (None, None, 32)          5152      \n",
      "_________________________________________________________________\n",
      "gru (GRU)                    (None, 32)                6336      \n",
      "_________________________________________________________________\n",
      "dense_4 (Dense)              (None, 1)                 33        \n",
      "=================================================================\n",
      "Total params: 13,793\n",
      "Trainable params: 13,793\n",
      "Non-trainable params: 0\n",
      "_________________________________________________________________\n",
      "Epoch 1/20\n",
      "500/500 [==============================] - 76s 152ms/step - loss: 0.3324 - val_loss: 0.2782\n",
      "Epoch 2/20\n",
      "500/500 [==============================] - 76s 153ms/step - loss: 0.2977 - val_loss: 0.2759\n",
      "Epoch 3/20\n",
      "500/500 [==============================] - 75s 150ms/step - loss: 0.2854 - val_loss: 0.2795\n",
      "Epoch 4/20\n",
      "500/500 [==============================] - 76s 151ms/step - loss: 0.2738 - val_loss: 0.2725\n",
      "Epoch 5/20\n",
      "500/500 [==============================] - 76s 151ms/step - loss: 0.2667 - val_loss: 0.2843\n",
      "Epoch 6/20\n",
      "500/500 [==============================] - 75s 150ms/step - loss: 0.2599 - val_loss: 0.2753\n",
      "Epoch 7/20\n",
      "500/500 [==============================] - 75s 150ms/step - loss: 0.2543 - val_loss: 0.2778\n",
      "Epoch 8/20\n",
      "500/500 [==============================] - 75s 151ms/step - loss: 0.2489 - val_loss: 0.2783\n",
      "Epoch 9/20\n",
      "500/500 [==============================] - 74s 148ms/step - loss: 0.2437 - val_loss: 0.2898\n",
      "Epoch 10/20\n",
      "500/500 [==============================] - 75s 150ms/step - loss: 0.2386 - val_loss: 0.2853\n",
      "Epoch 11/20\n",
      "500/500 [==============================] - 75s 150ms/step - loss: 0.2348 - val_loss: 0.2793\n",
      "Epoch 12/20\n",
      "500/500 [==============================] - 76s 151ms/step - loss: 0.2308 - val_loss: 0.3010\n",
      "Epoch 13/20\n",
      "500/500 [==============================] - 74s 147ms/step - loss: 0.2267 - val_loss: 0.2988\n",
      "Epoch 14/20\n",
      "500/500 [==============================] - 77s 153ms/step - loss: 0.2228 - val_loss: 0.3001\n",
      "Epoch 15/20\n",
      "500/500 [==============================] - 77s 155ms/step - loss: 0.2186 - val_loss: 0.3034\n",
      "Epoch 16/20\n",
      "500/500 [==============================] - 76s 152ms/step - loss: 0.2159 - val_loss: 0.3063\n",
      "Epoch 17/20\n",
      "500/500 [==============================] - 75s 150ms/step - loss: 0.2118 - val_loss: 0.3039\n",
      "Epoch 18/20\n",
      "500/500 [==============================] - 73s 147ms/step - loss: 0.2082 - val_loss: 0.3068\n",
      "Epoch 19/20\n",
      "500/500 [==============================] - 74s 147ms/step - loss: 0.2063 - val_loss: 0.2986\n",
      "Epoch 20/20\n",
      "500/500 [==============================] - 73s 147ms/step - loss: 0.2040 - val_loss: 0.3043\n"
     ]
    }
   ],
   "source": [
    "model = Sequential()\n",
    "model.add(layers.Conv1D(32, 5, activation='relu',\n",
    "                        input_shape=(None, float_data.shape[-1])))\n",
    "model.add(layers.MaxPooling1D(3))\n",
    "model.add(layers.Conv1D(32, 5, activation='relu'))\n",
    "model.add(layers.GRU(32, dropout=0.1, recurrent_dropout=0.5))\n",
    "model.add(layers.Dense(1))\n",
    "\n",
    "model.summary()\n",
    "\n",
    "model.compile(optimizer=RMSprop(), loss='mae')\n",
    "history = model.fit_generator(train_gen,\n",
    "                              steps_per_epoch=500,\n",
    "                              epochs=20,\n",
    "                              validation_data=val_gen,\n",
    "                              validation_steps=val_steps)"
   ]
  },
  {
   "cell_type": "code",
   "execution_count": 17,
   "metadata": {},
   "outputs": [
    {
     "data": {
      "image/png": "[encoded data removed]",
      "text/plain": [
       "<Figure size 432x288 with 1 Axes>"
      ]
     },
     "metadata": {
      "needs_background": "light"
     },
     "output_type": "display_data"
    }
   ],
   "source": [
    "loss = history.history['loss']\n",
    "val_loss = history.history['val_loss']\n",
    "\n",
    "epochs = range(1, len(loss) + 1)\n",
    "\n",
    "plt.figure()\n",
    "\n",
    "plt.plot(epochs, loss, 'bo', label='Training loss')\n",
    "plt.plot(epochs, val_loss, 'b', label='Validation loss')\n",
    "plt.title('Training and validation loss')\n",
    "plt.legend()\n",
    "\n",
    "plt.show()"
   ]
  },
  {
   "cell_type": "markdown",
   "metadata": {},
   "source": [
    "## GRU\n",
    "### 기온 예측 문제"
   ]
  },
  {
   "cell_type": "code",
   "execution_count": 18,
   "metadata": {
    "scrolled": true
   },
   "outputs": [
    {
     "name": "stdout",
     "output_type": "stream",
     "text": [
      "Epoch 1/20\n",
      "500/500 [==============================] - 95s 190ms/step - loss: 0.2985 - val_loss: 0.2803\n",
      "Epoch 2/20\n",
      "500/500 [==============================] - 94s 189ms/step - loss: 0.2842 - val_loss: 0.2645\n",
      "Epoch 3/20\n",
      "500/500 [==============================] - 94s 187ms/step - loss: 0.2780 - val_loss: 0.2648\n",
      "Epoch 4/20\n",
      "500/500 [==============================] - 94s 188ms/step - loss: 0.2742 - val_loss: 0.2599\n",
      "Epoch 5/20\n",
      "500/500 [==============================] - 94s 187ms/step - loss: 0.2702 - val_loss: 0.2628\n",
      "Epoch 6/20\n",
      "500/500 [==============================] - 94s 189ms/step - loss: 0.2672 - val_loss: 0.2669\n",
      "Epoch 7/20\n",
      "500/500 [==============================] - 94s 188ms/step - loss: 0.2617 - val_loss: 0.2647\n",
      "Epoch 8/20\n",
      "500/500 [==============================] - 94s 188ms/step - loss: 0.2613 - val_loss: 0.2647\n",
      "Epoch 9/20\n",
      "500/500 [==============================] - 94s 189ms/step - loss: 0.2567 - val_loss: 0.2654\n",
      "Epoch 10/20\n",
      "500/500 [==============================] - 94s 188ms/step - loss: 0.2542 - val_loss: 0.2665\n",
      "Epoch 11/20\n",
      "500/500 [==============================] - 94s 188ms/step - loss: 0.2503 - val_loss: 0.2676\n",
      "Epoch 12/20\n",
      "500/500 [==============================] - 94s 188ms/step - loss: 0.2461 - val_loss: 0.2750\n",
      "Epoch 13/20\n",
      "500/500 [==============================] - 95s 189ms/step - loss: 0.2414 - val_loss: 0.2769\n",
      "Epoch 14/20\n",
      "500/500 [==============================] - 94s 189ms/step - loss: 0.2362 - val_loss: 0.2728\n",
      "Epoch 15/20\n",
      "500/500 [==============================] - 96s 191ms/step - loss: 0.2345 - val_loss: 0.2765\n",
      "Epoch 16/20\n",
      "500/500 [==============================] - 98s 196ms/step - loss: 0.2287 - val_loss: 0.2769\n",
      "Epoch 17/20\n",
      "500/500 [==============================] - 96s 192ms/step - loss: 0.2249 - val_loss: 0.2841\n",
      "Epoch 18/20\n",
      "500/500 [==============================] - 93s 185ms/step - loss: 0.2215 - val_loss: 0.2893\n",
      "Epoch 19/20\n",
      "500/500 [==============================] - 99s 199ms/step - loss: 0.2175 - val_loss: 0.2872\n",
      "Epoch 20/20\n",
      "500/500 [==============================] - 96s 193ms/step - loss: 0.2155 - val_loss: 0.2971\n"
     ]
    }
   ],
   "source": [
    "model = Sequential()\n",
    "model.add(layers.GRU(32, input_shape=(None, float_data.shape[-1])))\n",
    "model.add(layers.Dense(1))\n",
    "\n",
    "model.compile(optimizer=RMSprop(), loss='mae')\n",
    "history = model.fit_generator(train_gen,\n",
    "                              steps_per_epoch=500,\n",
    "                              epochs=20,\n",
    "                              validation_data=val_gen,\n",
    "                              validation_steps=val_steps)"
   ]
  },
  {
   "cell_type": "code",
   "execution_count": 19,
   "metadata": {},
   "outputs": [
    {
     "data": {
      "image/png": "[encoded data removed]",
      "text/plain": [
       "<Figure size 432x288 with 1 Axes>"
      ]
     },
     "metadata": {
      "needs_background": "light"
     },
     "output_type": "display_data"
    }
   ],
   "source": [
    "loss = history.history['loss']\n",
    "val_loss = history.history['val_loss']\n",
    "\n",
    "epochs = range(1, len(loss) + 1)\n",
    "\n",
    "plt.figure()\n",
    "\n",
    "plt.plot(epochs, loss, 'bo', label='Training loss')\n",
    "plt.plot(epochs, val_loss, 'b', label='Validation loss')\n",
    "plt.title('Training and validation loss')\n",
    "plt.legend()\n",
    "\n",
    "plt.show()"
   ]
  },
  {
   "cell_type": "markdown",
   "metadata": {},
   "source": [
    "순환 드롭아웃 사용"
   ]
  },
  {
   "cell_type": "code",
   "execution_count": 20,
   "metadata": {
    "scrolled": true
   },
   "outputs": [
    {
     "name": "stdout",
     "output_type": "stream",
     "text": [
      "Epoch 1/40\n",
      "500/500 [==============================] - 163s 326ms/step - loss: 0.3221 - val_loss: 0.2768\n",
      "Epoch 2/40\n",
      "500/500 [==============================] - 161s 322ms/step - loss: 0.3022 - val_loss: 0.2754\n",
      "Epoch 3/40\n",
      "500/500 [==============================] - 161s 321ms/step - loss: 0.2948 - val_loss: 0.2675\n",
      "Epoch 4/40\n",
      "500/500 [==============================] - 161s 322ms/step - loss: 0.2898 - val_loss: 0.2700\n",
      "Epoch 5/40\n",
      "500/500 [==============================] - 162s 324ms/step - loss: 0.2878 - val_loss: 0.2659\n",
      "Epoch 6/40\n",
      "500/500 [==============================] - 162s 324ms/step - loss: 0.2854 - val_loss: 0.2681\n",
      "Epoch 7/40\n",
      "500/500 [==============================] - 161s 321ms/step - loss: 0.2816 - val_loss: 0.2637\n",
      "Epoch 8/40\n",
      "500/500 [==============================] - 162s 325ms/step - loss: 0.2781 - val_loss: 0.2640\n",
      "Epoch 9/40\n",
      "500/500 [==============================] - 161s 323ms/step - loss: 0.2764 - val_loss: 0.2674\n",
      "Epoch 10/40\n",
      "500/500 [==============================] - 162s 325ms/step - loss: 0.2717 - val_loss: 0.2712\n",
      "Epoch 11/40\n",
      "500/500 [==============================] - 160s 320ms/step - loss: 0.2715 - val_loss: 0.2657\n",
      "Epoch 12/40\n",
      "500/500 [==============================] - 159s 318ms/step - loss: 0.2682 - val_loss: 0.2703\n",
      "Epoch 13/40\n",
      "500/500 [==============================] - 159s 318ms/step - loss: 0.2647 - val_loss: 0.2694\n",
      "Epoch 14/40\n",
      "500/500 [==============================] - 159s 318ms/step - loss: 0.2626 - val_loss: 0.2705\n",
      "Epoch 15/40\n",
      "500/500 [==============================] - 1092s 2s/step - loss: 0.2597 - val_loss: 0.2707\n",
      "Epoch 16/40\n",
      "500/500 [==============================] - 160s 320ms/step - loss: 0.2606 - val_loss: 0.2732\n",
      "Epoch 17/40\n",
      "500/500 [==============================] - 159s 318ms/step - loss: 0.2579 - val_loss: 0.2762\n",
      "Epoch 18/40\n",
      "500/500 [==============================] - 159s 318ms/step - loss: 0.2537 - val_loss: 0.2773\n",
      "Epoch 19/40\n",
      "500/500 [==============================] - 159s 318ms/step - loss: 0.2533 - val_loss: 0.2806\n",
      "Epoch 20/40\n",
      "500/500 [==============================] - 159s 318ms/step - loss: 0.2509 - val_loss: 0.2857\n",
      "Epoch 21/40\n",
      "500/500 [==============================] - 159s 318ms/step - loss: 0.2488 - val_loss: 0.2848\n",
      "Epoch 22/40\n",
      "500/500 [==============================] - 159s 318ms/step - loss: 0.2455 - val_loss: 0.2831\n",
      "Epoch 23/40\n",
      "500/500 [==============================] - 159s 318ms/step - loss: 0.2454 - val_loss: 0.2890\n",
      "Epoch 24/40\n",
      "500/500 [==============================] - 159s 318ms/step - loss: 0.2436 - val_loss: 0.2911\n",
      "Epoch 25/40\n",
      "500/500 [==============================] - 159s 319ms/step - loss: 0.2427 - val_loss: 0.2922\n",
      "Epoch 26/40\n",
      "500/500 [==============================] - 159s 318ms/step - loss: 0.2407 - val_loss: 0.2950\n",
      "Epoch 27/40\n",
      "500/500 [==============================] - 159s 318ms/step - loss: 0.2392 - val_loss: 0.2929\n",
      "Epoch 28/40\n",
      "500/500 [==============================] - 160s 319ms/step - loss: 0.2376 - val_loss: 0.3039\n",
      "Epoch 29/40\n",
      "500/500 [==============================] - 159s 317ms/step - loss: 0.2361 - val_loss: 0.3011\n",
      "Epoch 30/40\n",
      "500/500 [==============================] - 159s 317ms/step - loss: 0.2337 - val_loss: 0.3010\n",
      "Epoch 31/40\n",
      "500/500 [==============================] - 159s 318ms/step - loss: 0.2320 - val_loss: 0.2963\n",
      "Epoch 32/40\n",
      "500/500 [==============================] - 158s 317ms/step - loss: 0.2309 - val_loss: 0.3055\n",
      "Epoch 33/40\n",
      "500/500 [==============================] - 158s 316ms/step - loss: 0.2299 - val_loss: 0.3083\n",
      "Epoch 34/40\n",
      "500/500 [==============================] - 158s 316ms/step - loss: 0.2292 - val_loss: 0.3054\n",
      "Epoch 35/40\n",
      "500/500 [==============================] - 158s 316ms/step - loss: 0.2292 - val_loss: 0.3021\n",
      "Epoch 36/40\n",
      "500/500 [==============================] - 158s 317ms/step - loss: 0.2265 - val_loss: 0.3067\n",
      "Epoch 37/40\n",
      "500/500 [==============================] - 158s 317ms/step - loss: 0.2253 - val_loss: 0.3100\n",
      "Epoch 38/40\n",
      "500/500 [==============================] - 158s 316ms/step - loss: 0.2241 - val_loss: 0.3069\n",
      "Epoch 39/40\n",
      "500/500 [==============================] - 158s 317ms/step - loss: 0.2239 - val_loss: 0.3133\n",
      "Epoch 40/40\n",
      "500/500 [==============================] - 153s 305ms/step - loss: 0.2224 - val_loss: 0.3078\n"
     ]
    }
   ],
   "source": [
    "model = Sequential()\n",
    "model.add(layers.GRU(32,\n",
    "                     dropout=0.2,\n",
    "                     recurrent_dropout=0.2,\n",
    "                     input_shape=(None, float_data.shape[-1])))\n",
    "model.add(layers.Dense(1))\n",
    "\n",
    "model.compile(optimizer=RMSprop(), loss='mae')\n",
    "history = model.fit_generator(train_gen,\n",
    "                              steps_per_epoch=500,\n",
    "                              epochs=40,\n",
    "                              validation_data=val_gen,\n",
    "                              validation_steps=val_steps)"
   ]
  },
  {
   "cell_type": "code",
   "execution_count": 21,
   "metadata": {},
   "outputs": [
    {
     "data": {
      "image/png": "[encoded data removed]",
      "text/plain": [
       "<Figure size 432x288 with 1 Axes>"
      ]
     },
     "metadata": {
      "needs_background": "light"
     },
     "output_type": "display_data"
    }
   ],
   "source": [
    "loss = history.history['loss']\n",
    "val_loss = history.history['val_loss']\n",
    "\n",
    "epochs = range(1, len(loss) + 1)\n",
    "\n",
    "plt.figure()\n",
    "\n",
    "plt.plot(epochs, loss, 'bo', label='Training loss')\n",
    "plt.plot(epochs, val_loss, 'b', label='Validation loss')\n",
    "plt.title('Training and validation loss')\n",
    "plt.legend()\n",
    "\n",
    "plt.show()"
   ]
  },
  {
   "cell_type": "markdown",
   "metadata": {},
   "source": [
    "## 양방향 RNN\n",
    "### 기온 예측 문제\n",
    "\n",
    "Bidrectional 사용"
   ]
  },
  {
   "cell_type": "code",
   "execution_count": 23,
   "metadata": {},
   "outputs": [],
   "source": [
    "from tensorflow.keras import backend as K\n",
    "K.clear_session()"
   ]
  },
  {
   "cell_type": "code",
   "execution_count": 24,
   "metadata": {
    "scrolled": true
   },
   "outputs": [
    {
     "name": "stdout",
     "output_type": "stream",
     "text": [
      "Epoch 1/40\n",
      "500/500 [==============================] - 121s 243ms/step - loss: 0.2992 - val_loss: 0.2726\n",
      "Epoch 2/40\n",
      "500/500 [==============================] - 120s 240ms/step - loss: 0.2731 - val_loss: 0.2674\n",
      "Epoch 3/40\n",
      "500/500 [==============================] - 120s 240ms/step - loss: 0.2690 - val_loss: 0.2646\n",
      "Epoch 4/40\n",
      "500/500 [==============================] - 120s 240ms/step - loss: 0.2637 - val_loss: 0.2676\n",
      "Epoch 5/40\n",
      "500/500 [==============================] - 120s 240ms/step - loss: 0.2580 - val_loss: 0.2725\n",
      "Epoch 6/40\n",
      "500/500 [==============================] - 120s 240ms/step - loss: 0.2541 - val_loss: 0.2654\n",
      "Epoch 7/40\n",
      "500/500 [==============================] - 120s 240ms/step - loss: 0.2523 - val_loss: 0.2686\n",
      "Epoch 8/40\n",
      "500/500 [==============================] - 120s 240ms/step - loss: 0.2461 - val_loss: 0.2723\n",
      "Epoch 9/40\n",
      "500/500 [==============================] - 120s 239ms/step - loss: 0.2414 - val_loss: 0.2763\n",
      "Epoch 10/40\n",
      "500/500 [==============================] - 121s 242ms/step - loss: 0.2368 - val_loss: 0.2789\n",
      "Epoch 11/40\n",
      "500/500 [==============================] - 120s 239ms/step - loss: 0.2301 - val_loss: 0.2853\n",
      "Epoch 12/40\n",
      "500/500 [==============================] - 120s 240ms/step - loss: 0.2263 - val_loss: 0.2834\n",
      "Epoch 13/40\n",
      "500/500 [==============================] - 120s 240ms/step - loss: 0.2209 - val_loss: 0.2863\n",
      "Epoch 14/40\n",
      "500/500 [==============================] - 120s 240ms/step - loss: 0.2136 - val_loss: 0.2862\n",
      "Epoch 15/40\n",
      "500/500 [==============================] - 120s 241ms/step - loss: 0.2085 - val_loss: 0.2936\n",
      "Epoch 16/40\n",
      "500/500 [==============================] - 121s 242ms/step - loss: 0.2031 - val_loss: 0.2996\n",
      "Epoch 17/40\n",
      "500/500 [==============================] - 119s 239ms/step - loss: 0.1999 - val_loss: 0.3030\n",
      "Epoch 18/40\n",
      "500/500 [==============================] - 119s 238ms/step - loss: 0.1951 - val_loss: 0.3019\n",
      "Epoch 19/40\n",
      "500/500 [==============================] - 119s 238ms/step - loss: 0.1902 - val_loss: 0.3070\n",
      "Epoch 20/40\n",
      "500/500 [==============================] - 120s 239ms/step - loss: 0.1868 - val_loss: 0.3123\n",
      "Epoch 21/40\n",
      "500/500 [==============================] - 119s 238ms/step - loss: 0.1825 - val_loss: 0.3164\n",
      "Epoch 22/40\n",
      "500/500 [==============================] - 120s 239ms/step - loss: 0.1777 - val_loss: 0.3239\n",
      "Epoch 23/40\n",
      "500/500 [==============================] - 119s 238ms/step - loss: 0.1728 - val_loss: 0.3222\n",
      "Epoch 24/40\n",
      "500/500 [==============================] - 121s 241ms/step - loss: 0.1702 - val_loss: 0.3241\n",
      "Epoch 25/40\n",
      "500/500 [==============================] - 119s 238ms/step - loss: 0.1679 - val_loss: 0.3252\n",
      "Epoch 26/40\n",
      "500/500 [==============================] - 123s 245ms/step - loss: 0.1668 - val_loss: 0.3271\n",
      "Epoch 27/40\n",
      "500/500 [==============================] - 119s 239ms/step - loss: 0.1614 - val_loss: 0.3352\n",
      "Epoch 28/40\n",
      "500/500 [==============================] - 119s 238ms/step - loss: 0.1597 - val_loss: 0.3286\n",
      "Epoch 29/40\n",
      "500/500 [==============================] - 120s 240ms/step - loss: 0.1574 - val_loss: 0.3401\n",
      "Epoch 30/40\n",
      "500/500 [==============================] - 119s 238ms/step - loss: 0.1554 - val_loss: 0.3309\n",
      "Epoch 31/40\n",
      "500/500 [==============================] - 119s 238ms/step - loss: 0.1524 - val_loss: 0.3343\n",
      "Epoch 32/40\n",
      "500/500 [==============================] - 119s 239ms/step - loss: 0.1508 - val_loss: 0.3351\n",
      "Epoch 33/40\n",
      "500/500 [==============================] - 119s 239ms/step - loss: 0.1484 - val_loss: 0.3394\n",
      "Epoch 34/40\n",
      "500/500 [==============================] - 119s 239ms/step - loss: 0.1473 - val_loss: 0.3419\n",
      "Epoch 35/40\n",
      "500/500 [==============================] - 119s 239ms/step - loss: 0.1456 - val_loss: 0.3387\n",
      "Epoch 36/40\n",
      "500/500 [==============================] - 119s 239ms/step - loss: 0.1438 - val_loss: 0.3401\n",
      "Epoch 37/40\n",
      "500/500 [==============================] - 120s 240ms/step - loss: 0.1421 - val_loss: 0.3446\n",
      "Epoch 38/40\n",
      "500/500 [==============================] - 123s 246ms/step - loss: 0.1413 - val_loss: 0.3409\n",
      "Epoch 39/40\n",
      "500/500 [==============================] - 123s 246ms/step - loss: 0.1392 - val_loss: 0.3417\n",
      "Epoch 40/40\n",
      "500/500 [==============================] - 123s 247ms/step - loss: 0.1389 - val_loss: 0.3440\n"
     ]
    }
   ],
   "source": [
    "model = Sequential()\n",
    "model.add(layers.Bidirectional(layers.GRU(32), input_shape=(None, float_data.shape[-1])))\n",
    "model.add(layers.Dense(1))\n",
    "\n",
    "model.compile(optimizer=RMSprop(), loss='mae')\n",
    "history = model.fit_generator(train_gen,\n",
    "                              steps_per_epoch=500,\n",
    "                              epochs=40,\n",
    "                              validation_data=val_gen,\n",
    "                              validation_steps=val_steps)"
   ]
  },
  {
   "cell_type": "code",
   "execution_count": 25,
   "metadata": {},
   "outputs": [
    {
     "data": {
      "image/png": "[encoded data removed]",
      "text/plain": [
       "<Figure size 432x288 with 1 Axes>"
      ]
     },
     "metadata": {
      "needs_background": "light"
     },
     "output_type": "display_data"
    }
   ],
   "source": [
    "loss = history.history['loss']\n",
    "val_loss = history.history['val_loss']\n",
    "\n",
    "epochs = range(1, len(loss) + 1)\n",
    "\n",
    "plt.figure()\n",
    "\n",
    "plt.plot(epochs, loss, 'bo', label='Training loss')\n",
    "plt.plot(epochs, val_loss, 'b', label='Validation loss')\n",
    "plt.title('Training and validation loss')\n",
    "plt.legend()\n",
    "\n",
    "plt.show()"
   ]
  },
  {
   "cell_type": "code",
   "execution_count": null,
   "metadata": {},
   "outputs": [],
   "source": []
  }
 ],
 "metadata": {
  "kernelspec": {
   "display_name": "Python 3",
   "language": "python",
   "name": "python3"
  },
  "language_info": {
   "codemirror_mode": {
    "name": "ipython",
    "version": 3
   },
   "file_extension": ".py",
   "mimetype": "text/x-python",
   "name": "python",
   "nbconvert_exporter": "python",
   "pygments_lexer": "ipython3",
   "version": "3.7.6"
  }
 },
 "nbformat": 4,
 "nbformat_minor": 4
}

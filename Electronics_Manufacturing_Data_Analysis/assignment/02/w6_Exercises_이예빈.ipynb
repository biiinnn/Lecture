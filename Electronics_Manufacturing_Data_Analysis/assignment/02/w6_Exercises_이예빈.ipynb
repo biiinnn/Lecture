{
  "nbformat": 4,
  "nbformat_minor": 0,
  "metadata": {
    "anaconda-cloud": {},
    "kernelspec": {
      "display_name": "Python 3",
      "language": "python",
      "name": "python3"
    },
    "language_info": {
      "codemirror_mode": {
        "name": "ipython",
        "version": 3
      },
      "file_extension": ".py",
      "mimetype": "text/x-python",
      "name": "python",
      "nbconvert_exporter": "python",
      "pygments_lexer": "ipython3",
      "version": "3.7.3"
    },
    "colab": {
      "name": "w6_Exercises_이예빈.ipynb",
      "provenance": [],
      "collapsed_sections": []
    }
  },
  "cells": [
    {
      "cell_type": "markdown",
      "metadata": {
        "id": "LTrjD0Ltmg5l"
      },
      "source": [
        "# 전자제조데이터분석 과제 02\n",
        "## 제출: eclass 과제메뉴 02\n",
        "- 각 코드 블럭의 출력 결과까지 저장하여 제출해주세요.\n",
        "- 최대한 본인의 힘으로 해결하세요. (중간고사과 유사한 스타일)\n",
        "- 각 코드의 동작방식을 반드시! 주석으로 설명해주세요.\n",
        "- ipynb 파일을 그대로 제출해주세요.\n",
        "\n",
        "##기한: 2021.10.23 23:59\n",
        "\n",
        "학번: 21510004\n",
        "이름: 이예빈"
      ]
    },
    {
      "cell_type": "markdown",
      "metadata": {
        "id": "E5ZTx0zmIBv8"
      },
      "source": [
        "참고해야 할 문서: Padnas API Reference \n",
        "\n",
        "https://pandas.pydata.org/pandas-docs/version/1.1.5/reference/index.html\n",
        "\n",
        "팁:\n",
        "- read_csv(): csv 파일을 읽기 위한 메소드 (https://pandas.pydata.org/pandas-docs/version/1.1.5/reference/api/pandas.read_csv.html#pandas.read_csv)\n",
        "- dataframe.*: dataframe을 다루기 위한 다양한 메소드 (https://pandas.pydata.org/pandas-docs/version/1.1.5/reference/frame.html)"
      ]
    },
    {
      "cell_type": "markdown",
      "metadata": {
        "id": "aOI9t7IhH4X1"
      },
      "source": [
        "\n",
        "\n",
        "### Step 1. pandas 모듈을 import 하세요."
      ]
    },
    {
      "cell_type": "code",
      "metadata": {
        "id": "XxkYecdHH4X3"
      },
      "source": [
        "# pandas 모듈을 alias를 사용하여 pd로 불러오기\n",
        "import pandas as pd"
      ],
      "execution_count": 1,
      "outputs": []
    },
    {
      "cell_type": "markdown",
      "metadata": {
        "id": "Kec62vNeH4X4"
      },
      "source": [
        "### Step 2. 제공된 데이터 파일을 업로드하세요."
      ]
    },
    {
      "cell_type": "markdown",
      "metadata": {
        "id": "BZzSdnOrhg6_"
      },
      "source": [
        "런타임 재활용되면 데이터 다시 업로드 해야함!!"
      ]
    },
    {
      "cell_type": "markdown",
      "metadata": {
        "id": "ny3ZSImWH4X5"
      },
      "source": [
        "### Step 3. 업로드한 파일을 읽어 dataframe을 추출한 후 (pd.read_csv() 활용), 특정 변수에 저장하세요. 이때, 'user_id' 열을 dataframe의 인덱스로 활용하세요."
      ]
    },
    {
      "cell_type": "code",
      "metadata": {
        "id": "pgJw34iwH4X5"
      },
      "source": [
        "# 'user_id'를 인덱스로 활용하기 위해 index_col 옵션을 사용하여 지정\n",
        "data = pd.read_csv('w6data.txt', index_col = 'user_id')"
      ],
      "execution_count": 2,
      "outputs": []
    },
    {
      "cell_type": "markdown",
      "metadata": {
        "id": "m3b3J903H4X6"
      },
      "source": [
        "### Step 4. 첫 25개 항목을 출력하세요."
      ]
    },
    {
      "cell_type": "code",
      "metadata": {
        "scrolled": true,
        "id": "ZXI0g3m3H4X7",
        "colab": {
          "base_uri": "https://localhost:8080/",
          "height": 855
        },
        "outputId": "28e4c29f-f505-49c0-c076-aae8f4ac0d29"
      },
      "source": [
        "# 첫 25개 항목을 추출하기 위해 head 안에 숫자(25) 지정 -> DataFrame.head([n]): Return the first n rows.\n",
        "data.head(25)"
      ],
      "execution_count": 3,
      "outputs": [
        {
          "output_type": "execute_result",
          "data": {
            "text/html": [
              "<div>\n",
              "<style scoped>\n",
              "    .dataframe tbody tr th:only-of-type {\n",
              "        vertical-align: middle;\n",
              "    }\n",
              "\n",
              "    .dataframe tbody tr th {\n",
              "        vertical-align: top;\n",
              "    }\n",
              "\n",
              "    .dataframe thead th {\n",
              "        text-align: right;\n",
              "    }\n",
              "</style>\n",
              "<table border=\"1\" class=\"dataframe\">\n",
              "  <thead>\n",
              "    <tr style=\"text-align: right;\">\n",
              "      <th></th>\n",
              "      <th>age</th>\n",
              "      <th>gender</th>\n",
              "      <th>occupation</th>\n",
              "      <th>zip_code</th>\n",
              "    </tr>\n",
              "    <tr>\n",
              "      <th>user_id</th>\n",
              "      <th></th>\n",
              "      <th></th>\n",
              "      <th></th>\n",
              "      <th></th>\n",
              "    </tr>\n",
              "  </thead>\n",
              "  <tbody>\n",
              "    <tr>\n",
              "      <th>1</th>\n",
              "      <td>24</td>\n",
              "      <td>M</td>\n",
              "      <td>technician</td>\n",
              "      <td>85711</td>\n",
              "    </tr>\n",
              "    <tr>\n",
              "      <th>2</th>\n",
              "      <td>53</td>\n",
              "      <td>F</td>\n",
              "      <td>other</td>\n",
              "      <td>94043</td>\n",
              "    </tr>\n",
              "    <tr>\n",
              "      <th>3</th>\n",
              "      <td>23</td>\n",
              "      <td>M</td>\n",
              "      <td>writer</td>\n",
              "      <td>32067</td>\n",
              "    </tr>\n",
              "    <tr>\n",
              "      <th>4</th>\n",
              "      <td>24</td>\n",
              "      <td>M</td>\n",
              "      <td>technician</td>\n",
              "      <td>43537</td>\n",
              "    </tr>\n",
              "    <tr>\n",
              "      <th>5</th>\n",
              "      <td>33</td>\n",
              "      <td>F</td>\n",
              "      <td>other</td>\n",
              "      <td>15213</td>\n",
              "    </tr>\n",
              "    <tr>\n",
              "      <th>6</th>\n",
              "      <td>42</td>\n",
              "      <td>M</td>\n",
              "      <td>executive</td>\n",
              "      <td>98101</td>\n",
              "    </tr>\n",
              "    <tr>\n",
              "      <th>7</th>\n",
              "      <td>57</td>\n",
              "      <td>M</td>\n",
              "      <td>administrator</td>\n",
              "      <td>91344</td>\n",
              "    </tr>\n",
              "    <tr>\n",
              "      <th>8</th>\n",
              "      <td>36</td>\n",
              "      <td>M</td>\n",
              "      <td>administrator</td>\n",
              "      <td>05201</td>\n",
              "    </tr>\n",
              "    <tr>\n",
              "      <th>9</th>\n",
              "      <td>29</td>\n",
              "      <td>M</td>\n",
              "      <td>student</td>\n",
              "      <td>01002</td>\n",
              "    </tr>\n",
              "    <tr>\n",
              "      <th>10</th>\n",
              "      <td>53</td>\n",
              "      <td>M</td>\n",
              "      <td>lawyer</td>\n",
              "      <td>90703</td>\n",
              "    </tr>\n",
              "    <tr>\n",
              "      <th>11</th>\n",
              "      <td>39</td>\n",
              "      <td>F</td>\n",
              "      <td>other</td>\n",
              "      <td>30329</td>\n",
              "    </tr>\n",
              "    <tr>\n",
              "      <th>12</th>\n",
              "      <td>28</td>\n",
              "      <td>F</td>\n",
              "      <td>other</td>\n",
              "      <td>06405</td>\n",
              "    </tr>\n",
              "    <tr>\n",
              "      <th>13</th>\n",
              "      <td>47</td>\n",
              "      <td>M</td>\n",
              "      <td>educator</td>\n",
              "      <td>29206</td>\n",
              "    </tr>\n",
              "    <tr>\n",
              "      <th>14</th>\n",
              "      <td>45</td>\n",
              "      <td>M</td>\n",
              "      <td>scientist</td>\n",
              "      <td>55106</td>\n",
              "    </tr>\n",
              "    <tr>\n",
              "      <th>15</th>\n",
              "      <td>49</td>\n",
              "      <td>F</td>\n",
              "      <td>educator</td>\n",
              "      <td>97301</td>\n",
              "    </tr>\n",
              "    <tr>\n",
              "      <th>16</th>\n",
              "      <td>21</td>\n",
              "      <td>M</td>\n",
              "      <td>entertainment</td>\n",
              "      <td>10309</td>\n",
              "    </tr>\n",
              "    <tr>\n",
              "      <th>17</th>\n",
              "      <td>30</td>\n",
              "      <td>M</td>\n",
              "      <td>programmer</td>\n",
              "      <td>06355</td>\n",
              "    </tr>\n",
              "    <tr>\n",
              "      <th>18</th>\n",
              "      <td>35</td>\n",
              "      <td>F</td>\n",
              "      <td>other</td>\n",
              "      <td>37212</td>\n",
              "    </tr>\n",
              "    <tr>\n",
              "      <th>19</th>\n",
              "      <td>40</td>\n",
              "      <td>M</td>\n",
              "      <td>librarian</td>\n",
              "      <td>02138</td>\n",
              "    </tr>\n",
              "    <tr>\n",
              "      <th>20</th>\n",
              "      <td>42</td>\n",
              "      <td>F</td>\n",
              "      <td>homemaker</td>\n",
              "      <td>95660</td>\n",
              "    </tr>\n",
              "    <tr>\n",
              "      <th>21</th>\n",
              "      <td>26</td>\n",
              "      <td>M</td>\n",
              "      <td>writer</td>\n",
              "      <td>30068</td>\n",
              "    </tr>\n",
              "    <tr>\n",
              "      <th>22</th>\n",
              "      <td>25</td>\n",
              "      <td>M</td>\n",
              "      <td>writer</td>\n",
              "      <td>40206</td>\n",
              "    </tr>\n",
              "    <tr>\n",
              "      <th>23</th>\n",
              "      <td>30</td>\n",
              "      <td>F</td>\n",
              "      <td>artist</td>\n",
              "      <td>48197</td>\n",
              "    </tr>\n",
              "    <tr>\n",
              "      <th>24</th>\n",
              "      <td>21</td>\n",
              "      <td>F</td>\n",
              "      <td>artist</td>\n",
              "      <td>94533</td>\n",
              "    </tr>\n",
              "    <tr>\n",
              "      <th>25</th>\n",
              "      <td>39</td>\n",
              "      <td>M</td>\n",
              "      <td>engineer</td>\n",
              "      <td>55107</td>\n",
              "    </tr>\n",
              "  </tbody>\n",
              "</table>\n",
              "</div>"
            ],
            "text/plain": [
              "         age gender     occupation zip_code\n",
              "user_id                                    \n",
              "1         24      M     technician    85711\n",
              "2         53      F          other    94043\n",
              "3         23      M         writer    32067\n",
              "4         24      M     technician    43537\n",
              "5         33      F          other    15213\n",
              "6         42      M      executive    98101\n",
              "7         57      M  administrator    91344\n",
              "8         36      M  administrator    05201\n",
              "9         29      M        student    01002\n",
              "10        53      M         lawyer    90703\n",
              "11        39      F          other    30329\n",
              "12        28      F          other    06405\n",
              "13        47      M       educator    29206\n",
              "14        45      M      scientist    55106\n",
              "15        49      F       educator    97301\n",
              "16        21      M  entertainment    10309\n",
              "17        30      M     programmer    06355\n",
              "18        35      F          other    37212\n",
              "19        40      M      librarian    02138\n",
              "20        42      F      homemaker    95660\n",
              "21        26      M         writer    30068\n",
              "22        25      M         writer    40206\n",
              "23        30      F         artist    48197\n",
              "24        21      F         artist    94533\n",
              "25        39      M       engineer    55107"
            ]
          },
          "metadata": {},
          "execution_count": 3
        }
      ]
    },
    {
      "cell_type": "markdown",
      "metadata": {
        "id": "D9nnnycmH4X9"
      },
      "source": [
        "### Step 5. 마지막 10개 항목을 출력하세요."
      ]
    },
    {
      "cell_type": "code",
      "metadata": {
        "scrolled": true,
        "id": "NwwOr7cSH4X-",
        "colab": {
          "base_uri": "https://localhost:8080/",
          "height": 390
        },
        "outputId": "1d01228a-3a47-4974-ab9d-350aa8a7d5ae"
      },
      "source": [
        "# 마지막 10개 항목을 추출하기 위해 tail 안에 숫자(10) 지정 -> DataFrame.tail([n]): Return the last n rows.\n",
        "data.tail(10)"
      ],
      "execution_count": 4,
      "outputs": [
        {
          "output_type": "execute_result",
          "data": {
            "text/html": [
              "<div>\n",
              "<style scoped>\n",
              "    .dataframe tbody tr th:only-of-type {\n",
              "        vertical-align: middle;\n",
              "    }\n",
              "\n",
              "    .dataframe tbody tr th {\n",
              "        vertical-align: top;\n",
              "    }\n",
              "\n",
              "    .dataframe thead th {\n",
              "        text-align: right;\n",
              "    }\n",
              "</style>\n",
              "<table border=\"1\" class=\"dataframe\">\n",
              "  <thead>\n",
              "    <tr style=\"text-align: right;\">\n",
              "      <th></th>\n",
              "      <th>age</th>\n",
              "      <th>gender</th>\n",
              "      <th>occupation</th>\n",
              "      <th>zip_code</th>\n",
              "    </tr>\n",
              "    <tr>\n",
              "      <th>user_id</th>\n",
              "      <th></th>\n",
              "      <th></th>\n",
              "      <th></th>\n",
              "      <th></th>\n",
              "    </tr>\n",
              "  </thead>\n",
              "  <tbody>\n",
              "    <tr>\n",
              "      <th>934</th>\n",
              "      <td>61</td>\n",
              "      <td>M</td>\n",
              "      <td>engineer</td>\n",
              "      <td>22902</td>\n",
              "    </tr>\n",
              "    <tr>\n",
              "      <th>935</th>\n",
              "      <td>42</td>\n",
              "      <td>M</td>\n",
              "      <td>doctor</td>\n",
              "      <td>66221</td>\n",
              "    </tr>\n",
              "    <tr>\n",
              "      <th>936</th>\n",
              "      <td>24</td>\n",
              "      <td>M</td>\n",
              "      <td>other</td>\n",
              "      <td>32789</td>\n",
              "    </tr>\n",
              "    <tr>\n",
              "      <th>937</th>\n",
              "      <td>48</td>\n",
              "      <td>M</td>\n",
              "      <td>educator</td>\n",
              "      <td>98072</td>\n",
              "    </tr>\n",
              "    <tr>\n",
              "      <th>938</th>\n",
              "      <td>38</td>\n",
              "      <td>F</td>\n",
              "      <td>technician</td>\n",
              "      <td>55038</td>\n",
              "    </tr>\n",
              "    <tr>\n",
              "      <th>939</th>\n",
              "      <td>26</td>\n",
              "      <td>F</td>\n",
              "      <td>student</td>\n",
              "      <td>33319</td>\n",
              "    </tr>\n",
              "    <tr>\n",
              "      <th>940</th>\n",
              "      <td>32</td>\n",
              "      <td>M</td>\n",
              "      <td>administrator</td>\n",
              "      <td>02215</td>\n",
              "    </tr>\n",
              "    <tr>\n",
              "      <th>941</th>\n",
              "      <td>20</td>\n",
              "      <td>M</td>\n",
              "      <td>student</td>\n",
              "      <td>97229</td>\n",
              "    </tr>\n",
              "    <tr>\n",
              "      <th>942</th>\n",
              "      <td>48</td>\n",
              "      <td>F</td>\n",
              "      <td>librarian</td>\n",
              "      <td>78209</td>\n",
              "    </tr>\n",
              "    <tr>\n",
              "      <th>943</th>\n",
              "      <td>22</td>\n",
              "      <td>M</td>\n",
              "      <td>student</td>\n",
              "      <td>77841</td>\n",
              "    </tr>\n",
              "  </tbody>\n",
              "</table>\n",
              "</div>"
            ],
            "text/plain": [
              "         age gender     occupation zip_code\n",
              "user_id                                    \n",
              "934       61      M       engineer    22902\n",
              "935       42      M         doctor    66221\n",
              "936       24      M          other    32789\n",
              "937       48      M       educator    98072\n",
              "938       38      F     technician    55038\n",
              "939       26      F        student    33319\n",
              "940       32      M  administrator    02215\n",
              "941       20      M        student    97229\n",
              "942       48      F      librarian    78209\n",
              "943       22      M        student    77841"
            ]
          },
          "metadata": {},
          "execution_count": 4
        }
      ]
    },
    {
      "cell_type": "markdown",
      "metadata": {
        "id": "OycKbB_5H4X_"
      },
      "source": [
        "### Step 6. 데이터 파일에 총 몇개의 항목이 존재하는지 구해보세요."
      ]
    },
    {
      "cell_type": "code",
      "metadata": {
        "id": "Ww1YCrCrH4X_",
        "colab": {
          "base_uri": "https://localhost:8080/"
        },
        "outputId": "11b1b527-c5f3-4921-cbf5-ecd66e59b386"
      },
      "source": [
        "# 데이터 파일 안 총 항목의 개수를 구하는 방식은 여러가지가 있음 (len함수, shape함수 모두 같은 값 출력)\n",
        "len(data)"
      ],
      "execution_count": 5,
      "outputs": [
        {
          "output_type": "execute_result",
          "data": {
            "text/plain": [
              "943"
            ]
          },
          "metadata": {},
          "execution_count": 5
        }
      ]
    },
    {
      "cell_type": "code",
      "metadata": {
        "colab": {
          "base_uri": "https://localhost:8080/"
        },
        "id": "iQSIUHBu2GRZ",
        "outputId": "db31d95f-3e5f-47b2-aecc-348ab8c154ea"
      },
      "source": [
        "# shape의 첫번째 값 = 데이터 항목(row) 수 -> DataFrame.shape: Return a tuple representing the dimensionality of the DataFrame. (행, 열)\n",
        "data.shape[0]"
      ],
      "execution_count": 6,
      "outputs": [
        {
          "output_type": "execute_result",
          "data": {
            "text/plain": [
              "943"
            ]
          },
          "metadata": {},
          "execution_count": 6
        }
      ]
    },
    {
      "cell_type": "markdown",
      "metadata": {
        "id": "gZa_qE9CH4YA"
      },
      "source": [
        "### Step 7. Dataframe에 몇 개의 열(column)이 존재하나요?"
      ]
    },
    {
      "cell_type": "code",
      "metadata": {
        "colab": {
          "base_uri": "https://localhost:8080/"
        },
        "id": "ypuAzdJw2VfL",
        "outputId": "1c333950-affc-4ef2-c8ba-6f013ae3d305"
      },
      "source": [
        "# 데이터 파일 안 총 열의 수를 구하는 방식은 여러가지가 있음 (len함수, shape함수 모두 같은 값 출력)\n",
        "len(data.columns)"
      ],
      "execution_count": 7,
      "outputs": [
        {
          "output_type": "execute_result",
          "data": {
            "text/plain": [
              "4"
            ]
          },
          "metadata": {},
          "execution_count": 7
        }
      ]
    },
    {
      "cell_type": "code",
      "metadata": {
        "id": "aZoA_Kb8H4YB",
        "colab": {
          "base_uri": "https://localhost:8080/"
        },
        "outputId": "5d06f27b-dc6a-468b-adce-dd53129b5084"
      },
      "source": [
        "# shape의 두번째 값 = 데이터 열(column) 수 -> DataFrame.shape: Return a tuple representing the dimensionality of the DataFrame. (행, 열)\n",
        "data.shape[1]"
      ],
      "execution_count": 8,
      "outputs": [
        {
          "output_type": "execute_result",
          "data": {
            "text/plain": [
              "4"
            ]
          },
          "metadata": {},
          "execution_count": 8
        }
      ]
    },
    {
      "cell_type": "markdown",
      "metadata": {
        "id": "0lIwzFaOH4YB"
      },
      "source": [
        "### Step 8. Dataframe 내 모든 열(column)의 이름을 출력해보세요."
      ]
    },
    {
      "cell_type": "code",
      "metadata": {
        "id": "lVn6SpzMH4YC",
        "colab": {
          "base_uri": "https://localhost:8080/"
        },
        "outputId": "0449efbf-443d-4819-b108-d87d476856a1"
      },
      "source": [
        "# 데이터프레임 내 모든 열을 출력 -> DataFrame.columns: The column labels of the DataFrame.\n",
        "data.columns"
      ],
      "execution_count": 9,
      "outputs": [
        {
          "output_type": "execute_result",
          "data": {
            "text/plain": [
              "Index(['age', 'gender', 'occupation', 'zip_code'], dtype='object')"
            ]
          },
          "metadata": {},
          "execution_count": 9
        }
      ]
    },
    {
      "cell_type": "markdown",
      "metadata": {
        "id": "CQww-KqwH4YD"
      },
      "source": [
        "### Step 9. Dataframe의 인덱싱이 어떻게 되어있는지 출력해보세요."
      ]
    },
    {
      "cell_type": "code",
      "metadata": {
        "id": "AMcLzMNBH4YD",
        "colab": {
          "base_uri": "https://localhost:8080/"
        },
        "outputId": "219ebb4b-57aa-4b32-8395-12f33e288279"
      },
      "source": [
        "# \"the index\" (aka \"the labels\")\n",
        "# 데이터프레임 index 출력 -> DataFrame.index: The index (row labels) of the DataFrame.\n",
        "data.index"
      ],
      "execution_count": 10,
      "outputs": [
        {
          "output_type": "execute_result",
          "data": {
            "text/plain": [
              "Int64Index([  1,   2,   3,   4,   5,   6,   7,   8,   9,  10,\n",
              "            ...\n",
              "            934, 935, 936, 937, 938, 939, 940, 941, 942, 943],\n",
              "           dtype='int64', name='user_id', length=943)"
            ]
          },
          "metadata": {},
          "execution_count": 10
        }
      ]
    },
    {
      "cell_type": "markdown",
      "metadata": {
        "id": "TyPc0LtPH4YE"
      },
      "source": [
        "### Step 10. 각 열(column)의 data type을 출력해보세요."
      ]
    },
    {
      "cell_type": "code",
      "metadata": {
        "id": "mTVSvsEOH4YF",
        "colab": {
          "base_uri": "https://localhost:8080/"
        },
        "outputId": "913a0313-c507-437c-fe18-61fb4fc884ab"
      },
      "source": [
        "# 각 열의 data type 출력 -> DataFrame.dtypes: Return the dtypes in the DataFrame.\n",
        "data.dtypes"
      ],
      "execution_count": 11,
      "outputs": [
        {
          "output_type": "execute_result",
          "data": {
            "text/plain": [
              "age            int64\n",
              "gender        object\n",
              "occupation    object\n",
              "zip_code      object\n",
              "dtype: object"
            ]
          },
          "metadata": {},
          "execution_count": 11
        }
      ]
    },
    {
      "cell_type": "markdown",
      "metadata": {
        "id": "rRRZ9G_CH4YF"
      },
      "source": [
        "### Step 11. occupation 열(column)만 출력해보세요."
      ]
    },
    {
      "cell_type": "code",
      "metadata": {
        "id": "dzok1mSFH4YG",
        "colab": {
          "base_uri": "https://localhost:8080/"
        },
        "outputId": "c60ba98e-6f99-4f04-c07a-e613c5094c90"
      },
      "source": [
        "# occupation 열 지정, 방법1 -> []안에 열이름 입력\n",
        "data['occupation']"
      ],
      "execution_count": 12,
      "outputs": [
        {
          "output_type": "execute_result",
          "data": {
            "text/plain": [
              "user_id\n",
              "1         technician\n",
              "2              other\n",
              "3             writer\n",
              "4         technician\n",
              "5              other\n",
              "           ...      \n",
              "939          student\n",
              "940    administrator\n",
              "941          student\n",
              "942        librarian\n",
              "943          student\n",
              "Name: occupation, Length: 943, dtype: object"
            ]
          },
          "metadata": {},
          "execution_count": 12
        }
      ]
    },
    {
      "cell_type": "code",
      "metadata": {
        "colab": {
          "base_uri": "https://localhost:8080/"
        },
        "id": "f4GBuxBxnIXQ",
        "outputId": "bbccb832-6035-4c14-99c5-2dd23ed7d9bc"
      },
      "source": [
        "# occupation 열 지정, 방법2 -> .열이름으로 불러오기\n",
        "data.occupation"
      ],
      "execution_count": 13,
      "outputs": [
        {
          "output_type": "execute_result",
          "data": {
            "text/plain": [
              "user_id\n",
              "1         technician\n",
              "2              other\n",
              "3             writer\n",
              "4         technician\n",
              "5              other\n",
              "           ...      \n",
              "939          student\n",
              "940    administrator\n",
              "941          student\n",
              "942        librarian\n",
              "943          student\n",
              "Name: occupation, Length: 943, dtype: object"
            ]
          },
          "metadata": {},
          "execution_count": 13
        }
      ]
    },
    {
      "cell_type": "markdown",
      "metadata": {
        "id": "-MsPrv88H4YG"
      },
      "source": [
        "### Step 12. 데이터 파일에 몇 개의 서로 다른 occupation이 존재하나요?"
      ]
    },
    {
      "cell_type": "code",
      "metadata": {
        "id": "WmtdCGboH4YH",
        "colab": {
          "base_uri": "https://localhost:8080/"
        },
        "outputId": "62804930-089e-4087-9492-ace616cb3c36"
      },
      "source": [
        "# occupation 열의 고유한 값 개수 세기 -> DataFrame.nunique([axis, dropna]): Count distinct observations over requested axis.\n",
        "data['occupation'].nunique()"
      ],
      "execution_count": 14,
      "outputs": [
        {
          "output_type": "execute_result",
          "data": {
            "text/plain": [
              "21"
            ]
          },
          "metadata": {},
          "execution_count": 14
        }
      ]
    },
    {
      "cell_type": "markdown",
      "metadata": {
        "id": "JWJHuklnH4YH"
      },
      "source": [
        "### Step 13. 가장 많이 등장하는 occupation은 무엇인가요?"
      ]
    },
    {
      "cell_type": "code",
      "metadata": {
        "id": "ZgP09ENIH4YH",
        "colab": {
          "base_uri": "https://localhost:8080/",
          "height": 35
        },
        "outputId": "988ad869-3a52-4fe4-e01d-0165cb3e7802"
      },
      "source": [
        "# occupation 열의 개수 세기 -> DataFrame.value_counts([subset, normalize, …]): Return a Series containing counts of unique rows in the DataFrame.\n",
        "# ascending 옵션의 default 값이 False 이므로 처음 index 가 가장 많이 등장하는 occupation을 의미함\n",
        "data['occupation'].value_counts().index[0]"
      ],
      "execution_count": 15,
      "outputs": [
        {
          "output_type": "execute_result",
          "data": {
            "application/vnd.google.colaboratory.intrinsic+json": {
              "type": "string"
            },
            "text/plain": [
              "'student'"
            ]
          },
          "metadata": {},
          "execution_count": 15
        }
      ]
    },
    {
      "cell_type": "markdown",
      "metadata": {
        "id": "-4d4tLhZH4YJ"
      },
      "source": [
        "### Step 14. Dataframe내 모든 열(column)에 대하여 다양한 통계정보를 출력해보세요."
      ]
    },
    {
      "cell_type": "code",
      "metadata": {
        "scrolled": true,
        "id": "zvUv5T_hH4YJ",
        "colab": {
          "base_uri": "https://localhost:8080/",
          "height": 390
        },
        "outputId": "9bea5eaa-983d-4151-8be4-cb916020ea4b"
      },
      "source": [
        "# 데이터프레임의 통계 정보 추출 -> DataFrame.describe([percentiles, include, …]): Generate descriptive statistics.\n",
        "# 모든 열을 출력하기 위해 include 옵션에 'all'지정\n",
        "data.describe(include='all')"
      ],
      "execution_count": 16,
      "outputs": [
        {
          "output_type": "execute_result",
          "data": {
            "text/html": [
              "<div>\n",
              "<style scoped>\n",
              "    .dataframe tbody tr th:only-of-type {\n",
              "        vertical-align: middle;\n",
              "    }\n",
              "\n",
              "    .dataframe tbody tr th {\n",
              "        vertical-align: top;\n",
              "    }\n",
              "\n",
              "    .dataframe thead th {\n",
              "        text-align: right;\n",
              "    }\n",
              "</style>\n",
              "<table border=\"1\" class=\"dataframe\">\n",
              "  <thead>\n",
              "    <tr style=\"text-align: right;\">\n",
              "      <th></th>\n",
              "      <th>age</th>\n",
              "      <th>gender</th>\n",
              "      <th>occupation</th>\n",
              "      <th>zip_code</th>\n",
              "    </tr>\n",
              "  </thead>\n",
              "  <tbody>\n",
              "    <tr>\n",
              "      <th>count</th>\n",
              "      <td>943.000000</td>\n",
              "      <td>943</td>\n",
              "      <td>943</td>\n",
              "      <td>943</td>\n",
              "    </tr>\n",
              "    <tr>\n",
              "      <th>unique</th>\n",
              "      <td>NaN</td>\n",
              "      <td>2</td>\n",
              "      <td>21</td>\n",
              "      <td>795</td>\n",
              "    </tr>\n",
              "    <tr>\n",
              "      <th>top</th>\n",
              "      <td>NaN</td>\n",
              "      <td>M</td>\n",
              "      <td>student</td>\n",
              "      <td>55414</td>\n",
              "    </tr>\n",
              "    <tr>\n",
              "      <th>freq</th>\n",
              "      <td>NaN</td>\n",
              "      <td>670</td>\n",
              "      <td>196</td>\n",
              "      <td>9</td>\n",
              "    </tr>\n",
              "    <tr>\n",
              "      <th>mean</th>\n",
              "      <td>34.051962</td>\n",
              "      <td>NaN</td>\n",
              "      <td>NaN</td>\n",
              "      <td>NaN</td>\n",
              "    </tr>\n",
              "    <tr>\n",
              "      <th>std</th>\n",
              "      <td>12.192740</td>\n",
              "      <td>NaN</td>\n",
              "      <td>NaN</td>\n",
              "      <td>NaN</td>\n",
              "    </tr>\n",
              "    <tr>\n",
              "      <th>min</th>\n",
              "      <td>7.000000</td>\n",
              "      <td>NaN</td>\n",
              "      <td>NaN</td>\n",
              "      <td>NaN</td>\n",
              "    </tr>\n",
              "    <tr>\n",
              "      <th>25%</th>\n",
              "      <td>25.000000</td>\n",
              "      <td>NaN</td>\n",
              "      <td>NaN</td>\n",
              "      <td>NaN</td>\n",
              "    </tr>\n",
              "    <tr>\n",
              "      <th>50%</th>\n",
              "      <td>31.000000</td>\n",
              "      <td>NaN</td>\n",
              "      <td>NaN</td>\n",
              "      <td>NaN</td>\n",
              "    </tr>\n",
              "    <tr>\n",
              "      <th>75%</th>\n",
              "      <td>43.000000</td>\n",
              "      <td>NaN</td>\n",
              "      <td>NaN</td>\n",
              "      <td>NaN</td>\n",
              "    </tr>\n",
              "    <tr>\n",
              "      <th>max</th>\n",
              "      <td>73.000000</td>\n",
              "      <td>NaN</td>\n",
              "      <td>NaN</td>\n",
              "      <td>NaN</td>\n",
              "    </tr>\n",
              "  </tbody>\n",
              "</table>\n",
              "</div>"
            ],
            "text/plain": [
              "               age gender occupation zip_code\n",
              "count   943.000000    943        943      943\n",
              "unique         NaN      2         21      795\n",
              "top            NaN      M    student    55414\n",
              "freq           NaN    670        196        9\n",
              "mean     34.051962    NaN        NaN      NaN\n",
              "std      12.192740    NaN        NaN      NaN\n",
              "min       7.000000    NaN        NaN      NaN\n",
              "25%      25.000000    NaN        NaN      NaN\n",
              "50%      31.000000    NaN        NaN      NaN\n",
              "75%      43.000000    NaN        NaN      NaN\n",
              "max      73.000000    NaN        NaN      NaN"
            ]
          },
          "metadata": {},
          "execution_count": 16
        }
      ]
    },
    {
      "cell_type": "markdown",
      "metadata": {
        "id": "3Br2vH5QH4YK"
      },
      "source": [
        "### Step 15. 사용자들의 평균 나이는 몇살인가요?"
      ]
    },
    {
      "cell_type": "code",
      "metadata": {
        "id": "MR_pkZPzH4YK",
        "colab": {
          "base_uri": "https://localhost:8080/"
        },
        "outputId": "c150af5f-ecf4-4590-df9d-b5e8944cb708"
      },
      "source": [
        "# 데이터프레임에서 평균 구하기 -> DataFrame.mean([axis, skipna, level, …]): Return the mean of the values for the requested axis.\n",
        "# 정수로 표현하기 위해 round(반올림) 함수 사용\n",
        "round(data['age'].mean())"
      ],
      "execution_count": 17,
      "outputs": [
        {
          "output_type": "execute_result",
          "data": {
            "text/plain": [
              "34"
            ]
          },
          "metadata": {},
          "execution_count": 17
        }
      ]
    },
    {
      "cell_type": "markdown",
      "metadata": {
        "id": "VPAwZb17H4YK"
      },
      "source": [
        "### Step 16. 가장 적게 등장한 사용자들 중 최연소자의 나이는 몇인가요? "
      ]
    },
    {
      "cell_type": "code",
      "metadata": {
        "id": "vq6GmUhPkmF1"
      },
      "source": [
        "# 가장 적게 등장한 사용자 나이 (사용자의 나이는 중복 존재할 수 있으므로) 중 최연소 나이\n",
        "\n",
        "# age 열의 개수 세기\n",
        "age = data['age'].value_counts()"
      ],
      "execution_count": 18,
      "outputs": []
    },
    {
      "cell_type": "code",
      "metadata": {
        "colab": {
          "base_uri": "https://localhost:8080/"
        },
        "id": "ZfNKL6nToLeL",
        "outputId": "368b1236-ae8c-45ed-946a-a032d0aebcf4"
      },
      "source": [
        "age"
      ],
      "execution_count": 19,
      "outputs": [
        {
          "output_type": "execute_result",
          "data": {
            "text/plain": [
              "30    39\n",
              "25    38\n",
              "22    37\n",
              "28    36\n",
              "27    35\n",
              "      ..\n",
              "11     1\n",
              "10     1\n",
              "73     1\n",
              "66     1\n",
              "7      1\n",
              "Name: age, Length: 61, dtype: int64"
            ]
          },
          "metadata": {},
          "execution_count": 19
        }
      ]
    },
    {
      "cell_type": "code",
      "metadata": {
        "id": "C0EgGNZJk97r"
      },
      "source": [
        "# age 열에서 가장 적게 등장한 경우 less_appear에 저장\n",
        "less_appear = []\n",
        "for i in range(len(age)):\n",
        "  if age.values[i] == age.values.min():\n",
        "    less_appear.append(age.index[i])"
      ],
      "execution_count": 20,
      "outputs": []
    },
    {
      "cell_type": "code",
      "metadata": {
        "colab": {
          "base_uri": "https://localhost:8080/"
        },
        "id": "FVjXYrNgpjrz",
        "outputId": "dbd0be5d-a291-452c-dfce-f43a6571249e"
      },
      "source": [
        "less_appear"
      ],
      "execution_count": 21,
      "outputs": [
        {
          "output_type": "execute_result",
          "data": {
            "text/plain": [
              "[11, 10, 73, 66, 7]"
            ]
          },
          "metadata": {},
          "execution_count": 21
        }
      ]
    },
    {
      "cell_type": "code",
      "metadata": {
        "id": "aUyHa5hOH4YL",
        "colab": {
          "base_uri": "https://localhost:8080/"
        },
        "outputId": "bfb47019-f03b-4572-d1a0-86b6b800b133"
      },
      "source": [
        "# 가장 적게 등장한 사용자 나이 중 최연소 나이 값 추출\n",
        "min(less_appear)"
      ],
      "execution_count": 22,
      "outputs": [
        {
          "output_type": "execute_result",
          "data": {
            "text/plain": [
              "7"
            ]
          },
          "metadata": {},
          "execution_count": 22
        }
      ]
    }
  ]
}
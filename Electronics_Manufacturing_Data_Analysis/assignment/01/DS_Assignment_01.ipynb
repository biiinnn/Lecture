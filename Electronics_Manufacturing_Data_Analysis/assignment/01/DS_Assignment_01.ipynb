{
  "nbformat": 4,
  "nbformat_minor": 0,
  "metadata": {
    "colab": {
      "name": "DS_Assignment_01.ipynb",
      "provenance": [],
      "collapsed_sections": []
    },
    "kernelspec": {
      "name": "python3",
      "display_name": "Python 3"
    },
    "language_info": {
      "name": "python"
    }
  },
  "cells": [
    {
      "cell_type": "markdown",
      "metadata": {
        "id": "LTrjD0Ltmg5l"
      },
      "source": [
        "# 전자제조데이터분석 과제 01 \n",
        "## 제출: eclass 과제메뉴 01 \n",
        "- 각 코드 블럭의 출력 결과까지 저장하여 제출해주세요.\n",
        "- 중요 코드에 대해서는 동작방식을 주석으로 설명해주세요.\n",
        "- ipynb 파일을 그대로 제출해주세요.\n",
        "\n",
        "##기한: 2021.10.14 23:59\n",
        "\n",
        "학번: _________________________\n",
        "이름: _________________________"
      ]
    },
    {
      "cell_type": "markdown",
      "metadata": {
        "id": "Cs2xL-rAlHtW"
      },
      "source": [
        "1) 아래 코드의 동작방식에 대하여 분석/설명하시오.\n",
        "- 코드 블럭 안에 본인의 분석 내용을 기입할 것.\n",
        "- 이미지/사진 등도 추가 가능하니 참고."
      ]
    },
    {
      "cell_type": "code",
      "metadata": {
        "id": "tI0JxQGpBZ-n"
      },
      "source": [
        "# !!!! 과제 관련 코드!!!!\n",
        "# csv에서 데이터 추출하기\n",
        "import csv\n",
        "from pprint import pprint\n",
        "\n",
        "f = open('portfoliodate.csv')\n",
        "rows = csv.reader(f)\n",
        "headers = next(rows)\n",
        "print(headers) # column name\n",
        "\n",
        "select = ['name', 'shares', 'price']\n",
        "indices = [ headers.index(colname) for colname in select ]\n",
        "\n",
        "print(select, indices)\n",
        "row = next(rows)\n",
        "\n",
        "# record = { colname: row[index] for colname, index in zip(select, indices) } # 일단 한 행만 읽어서 dictionary로 만들어볼까요?\n",
        "# print(record)\n",
        "\n",
        "# 전체 행을 읽어서 dictionary의 리스트로 만들어볼까요?\n",
        "records = [ { colname: row[index] for colname, index in zip(select, indices) } for row in rows ] # 얘는 사실 read_portfolio와 똑같은 기능을 함!\n",
        "pprint(records)\n",
        "\n",
        "\n"
      ],
      "execution_count": null,
      "outputs": []
    },
    {
      "cell_type": "markdown",
      "metadata": {
        "id": "chtCD7nMlfPO"
      },
      "source": [
        "2) sample_string에서 사람의 이름을 찾기 위한 regular expression을 작성하여 아래 함수를 완성하시오."
      ]
    },
    {
      "cell_type": "code",
      "metadata": {
        "id": "3mdVzkpplgAt"
      },
      "source": [
        "import re\n",
        "def names():\n",
        "    simple_string = \"\"\"Amy is 5 years old, and her sister Mary is 2 years old. \n",
        "    Ruth and Peter, their parents, have 3 kids.\"\"\"\n",
        "\n",
        "    p=re.findall() # 이 부분을 구현하세요.\n",
        "    return p"
      ],
      "execution_count": null,
      "outputs": []
    },
    {
      "cell_type": "code",
      "metadata": {
        "id": "v_WZSrGRliwt"
      },
      "source": [
        "assert len(names()) == 4, \"There are four names in the simple_string\"\n",
        "# 사람 이름은 4개가 포함되어 있습니다. 따라서, names()가 정상 동작한다면, 이 코드 블럭의 assert 문을 통과해야 합니다."
      ],
      "execution_count": null,
      "outputs": []
    },
    {
      "cell_type": "markdown",
      "metadata": {
        "id": "fl6FknymmP00"
      },
      "source": [
        "3) grades.txt 파일에는 학생과 학점의 목록이 포함되어 있습니다.\n",
        "\n",
        "학생들 중 성적이 'B'인 학생들만 return하기 위한 함수를 완성하세요."
      ]
    },
    {
      "cell_type": "code",
      "metadata": {
        "id": "j2rjO6WPms81"
      },
      "source": [
        "def grades():\n",
        "    with open (\"grades.txt\", \"r\") as file:\n",
        "        grades = file.readlines()   \n",
        "        # 나머지 부분을 구현하세요.     \n",
        "        "
      ],
      "execution_count": null,
      "outputs": []
    },
    {
      "cell_type": "code",
      "metadata": {
        "id": "GbCEmYO2mwIU"
      },
      "source": [
        "assert len(grades()) == 16\n",
        "# grades()가 정상동작한다면 16개의 아이템을 return 해야 합니다."
      ],
      "execution_count": null,
      "outputs": []
    },
    {
      "cell_type": "markdown",
      "metadata": {
        "id": "0CG3aZa_oHTd"
      },
      "source": [
        "4) logdata.txt 파일은 웹 페이지 접속 로그를 포함하고 있으며 각각의 라인은 다음과 같은 항목을 포함하고 있습니다:\n",
        "\n",
        "- a host (e.g., '146.204.224.152')\n",
        "- a user_name (e.g., 'feest6811' 주의: 이름이 없는 경우도 있는데, 그때는 '-'가 이용됩니다.)\n",
        "- the time a request was made (e.g., '21/Jun/2019:15:45:24 -0700')\n",
        "- the post request type (e.g., 'POST /incentivize HTTP/1.1' 주의: POST 요청만 존재하는 것은 아닙니다.)\n",
        "\n",
        "파일을 읽고 아래와 같은 형식을 가진 딕셔너리들의 리스트를 생성하기 위한 함수를 작성하세요:\n",
        "\n",
        "```\n",
        "example_dict = {\"host\":\"146.204.224.152\", \n",
        "                \"user_name\":\"feest6811\", \n",
        "                \"time\":\"21/Jun/2019:15:45:24 -0700\",\n",
        "                \"request\":\"POST /incentivize HTTP/1.1\"}\n",
        "```\n",
        "\n",
        "\n"
      ]
    },
    {
      "cell_type": "code",
      "metadata": {
        "id": "KHVy7w4zo8_9"
      },
      "source": [
        "def logs():\n",
        "    with open(\"logdata.txt\", \"r\") as file:\n",
        "        logdata = file.read()\n",
        "        \n",
        "        #나머지 부분을 구현하세요."
      ],
      "execution_count": null,
      "outputs": []
    },
    {
      "cell_type": "code",
      "metadata": {
        "id": "rNnYbEBSpMHE"
      },
      "source": [
        "assert len(logs()) == 979\n",
        "\n",
        "one_item={'host': '146.204.224.152',  'user_name': 'feest6811',  'time': '21/Jun/2019:15:45:24 -0700',  'request': 'POST /incentivize HTTP/1.1'}\n",
        "two_item={'host': '245.247.95.68', 'user_name': 'cummerata3376', 'time': '21/Jun/2019:15:47:24 -0700', 'request': 'GET /redefine HTTP/2.0'}\n",
        "three_item = {'host': '148.174.255.122', 'user_name': '-', 'time': '21/Jun/2019:15:56:09 -0700', 'request': 'PATCH /recontextualize HTTP/2.0'}\n",
        "\n",
        "assert one_item in logs(), \"Sorry, this item should be in the log results, check your formating\"\n",
        "assert two_item in logs(), \"Sorry, this item should be in the log results, check your formating\"\n",
        "assert three_item in logs(), \"Sorry, this item should be in the log results, check your formating\"\n",
        "\n",
        "# 4개의 assert를 모두 통과해야 합니다.\n",
        "# 979개의 딕셔너리를 포함한 리스트가 생성되어야 하고 상기 아이템들이이 리스트에 포함되어 있어야 합니다."
      ],
      "execution_count": null,
      "outputs": []
    }
  ]
}